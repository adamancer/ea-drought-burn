{
 "cells": [
  {
   "cell_type": "markdown",
   "id": "3524302e",
   "metadata": {},
   "source": [
    "# Run all notebooks\n",
    "\n",
    "This script runs all the notebooks in this directory and regenerates the HTML report summarizing the project."
   ]
  },
  {
   "cell_type": "code",
   "execution_count": null,
   "id": "052fe95a",
   "metadata": {},
   "outputs": [],
   "source": [
    "import glob\n",
    "import os\n",
    "\n",
    "from ea_drought_burn.config import PROJ_DIR\n",
    "from ea_drought_burn.notebooks import (\n",
    "    NOTEBOOK_DIR, \n",
    "    run_notebook,\n",
    "    notebook_to_html\n",
    ")\n",
    "\n",
    "\n",
    "# Run all notebooks (except this one)\n",
    "for fp in sorted(glob.iglob(os.path.join(NOTEBOOK_DIR, \"*.ipynb\"))):\n",
    "    fn = os.path.basename(fp)\n",
    "    if fn != \"0-run-all-notebooks.ipynb\":\n",
    "        print(f\"Running {fn}\")\n",
    "        run_notebook(fp)\n",
    "\n",
    "# Update HTML report\n",
    "nb_path = os.path.join(PROJ_DIR, \"notebooks\", \"5-project-report.ipynb\")\n",
    "html_path = os.path.join(PROJ_DIR, \"reports\", \"project-report.htm\")\n",
    "notebook_to_html(nb_path, html_path)\n",
    "\n",
    "# Open report in default browser\n",
    "os.startfile(html_path)"
   ]
  },
  {
   "cell_type": "code",
   "execution_count": null,
   "id": "018ad41e",
   "metadata": {},
   "outputs": [],
   "source": []
  }
 ],
 "metadata": {
  "kernelspec": {
   "display_name": "Python 3",
   "language": "python",
   "name": "python3"
  },
  "language_info": {
   "codemirror_mode": {
    "name": "ipython",
    "version": 3
   },
   "file_extension": ".py",
   "mimetype": "text/x-python",
   "name": "python",
   "nbconvert_exporter": "python",
   "pygments_lexer": "ipython3",
   "version": "3.9.4"
  },
  "toc": {
   "base_numbering": 1,
   "nav_menu": {},
   "number_sections": true,
   "sideBar": true,
   "skip_h1_title": true,
   "title_cell": "Table of Contents",
   "title_sidebar": "Contents",
   "toc_cell": false,
   "toc_position": {},
   "toc_section_display": true,
   "toc_window_display": true
  }
 },
 "nbformat": 4,
 "nbformat_minor": 5
}
