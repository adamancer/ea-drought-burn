{
 "cells": [
  {
   "cell_type": "markdown",
   "id": "alive-matthew",
   "metadata": {},
   "source": [
    "# Drought-related burn severity in the 2018 Woolsey Fire, southern California\n",
    "\n",
    "**Author:** Adam Mansur<br>\n",
    "**Mentors:** E. Natasha Stavros and Joseph McGlinchy<br>\n",
    "**Course:** Earth Analytics Applications, CU Boulder, Summer 2021"
   ]
  },
  {
   "cell_type": "code",
   "execution_count": null,
   "id": "fitted-sharing",
   "metadata": {
    "execution": {
     "iopub.execute_input": "2021-05-23T21:35:29.015838Z",
     "iopub.status.busy": "2021-05-23T21:35:28.993696Z",
     "iopub.status.idle": "2021-05-23T21:35:36.179274Z",
     "shell.execute_reply": "2021-05-23T21:35:36.179274Z"
    },
    "tags": [
     "remove_cell"
    ]
   },
   "outputs": [],
   "source": [
    "# Import required Python libraries needed for blog post. These include\n",
    "# utility scripts used to share functions between notebooks (third group). \n",
    "\n",
    "import os\n",
    "from pathlib import Path\n",
    "\n",
    "import contextily as cx\n",
    "import earthpy as et\n",
    "import earthpy.plot as ep\n",
    "import geopandas as gpd\n",
    "import matplotlib.pyplot as plt\n",
    "from matplotlib.colors import ListedColormap\n",
    "import numpy as np\n",
    "import rioxarray as rxr \n",
    "import seaborn as sns\n",
    "import xarray as xr\n",
    "\n",
    "from ea_drought_burn.config import CRS\n",
    "from ea_drought_burn.utils import (\n",
    "    aggregate,\n",
    "    open_raster,\n",
    "    plot_bands,\n",
    "    plot_regression,\n",
    "    reproject_match\n",
    ")\n",
    "\n",
    "\n",
    "\n",
    "\n",
    "# Set working directory to the earthpy data directory\n",
    "os.chdir(os.path.join(et.io.HOME, \"earth-analytics\", \"data\", \"woolsey-fire\"))\n",
    "\n",
    "# Scale default font size up\n",
    "sns.set(font_scale=1.2, style=\"white\")\n",
    "\n",
    "# Set layout defaults\n",
    "plt.rc(\"figure.constrained_layout\", use=True, h_pad=15/72, w_pad=18/72)"
   ]
  },
  {
   "cell_type": "code",
   "execution_count": null,
   "id": "6fd5c3ce",
   "metadata": {
    "execution": {
     "iopub.execute_input": "2021-05-23T21:35:36.311877Z",
     "iopub.status.busy": "2021-05-23T21:35:36.228578Z",
     "iopub.status.idle": "2021-05-23T21:35:47.431612Z",
     "shell.execute_reply": "2021-05-23T21:35:47.436000Z"
    },
    "tags": [
     "remove_cell"
    ]
   },
   "outputs": [],
   "source": [
    "# Load Woolsey Fire boundary\n",
    "woolsey_fire = gpd.read_file(os.path.join(\"shapefiles\",\n",
    "                                          \"nifc_woolsey_perimeter\",\n",
    "                                          \"2018-CAVNC-091023.shp\")).to_crs(CRS)\n",
    "crop_bound = woolsey_fire.geometry\n",
    "\n",
    "# Load California boundary\n",
    "ca_bound = gpd.read_file(os.path.join(\"shapefiles\",\n",
    "                                      \"ca_state_boundary\",\n",
    "                                      \"CA_State_TIGER2016.shp\"))\n",
    "\n",
    "# Load Santa Monica Mountain (SMM) data stack\n",
    "smm_stack = open_raster(\n",
    "    os.path.join(\"aviris-climate-vegetation\", \"SMMDroughtstack.dat\"),\n",
    "    crs=CRS,\n",
    "    crop_bound=crop_bound\n",
    ")\n",
    "\n",
    "# Load and reproject MTBS dNBR\n",
    "dnbr = open_raster(\n",
    "    os.path.join(\"mtbs-burn-severity\",\n",
    "                 \"ca3424011870020181108\",\n",
    "                 \"ca3424011870020181108_20171215_20181215_dnbr.tif\"),\n",
    "    crs=CRS\n",
    ")\n",
    "dnbr.rio.write_nodata(np.nan, inplace=True)\n",
    "dnbr = dnbr.where(dnbr != -9999, np.nan)\n",
    "dnbr = reproject_match(dnbr, smm_stack[0])\n",
    "\n",
    "# Load and reproject MTBS classified dNBR\n",
    "dnbr_classified = open_raster(\n",
    "    os.path.join(\"mtbs-burn-severity\",\n",
    "                 \"ca3424011870020181108\",\n",
    "                 \"ca3424011870020181108_20171215_20181215_dnbr6.tif\"),\n",
    "    crs=CRS\n",
    ")\n",
    "dnbr_classified.rio.write_nodata(np.nan, inplace=True)\n",
    "dnbr_classified = dnbr_classified.where(dnbr_classified != -9999, np.nan)\n",
    "dnbr_classified = reproject_match(dnbr_classified, smm_stack[0])\n",
    "\n",
    "# Read mask used to aggregate data to the PRISM grid\n",
    "prism_grid = open_raster(\n",
    "    os.path.join(\"masks\", \"prism_grid.tif\"),\n",
    "    crs=CRS,\n",
    "    crop_bound=crop_bound,\n",
    "    masked=False\n",
    ")\n"
   ]
  },
  {
   "cell_type": "markdown",
   "id": "color-effects",
   "metadata": {},
   "source": [
    "## Project Overview\n",
    "\n",
    "Over two weeks in November 2018, the Woolsey Fire burned nearly 100,000 acres in the Santa Monica Mountains north of Malibu, California (Fig. 1). Three people were killed in the fire and over 1,600 structures were destroyed. Two other fires that ignited the same day as the Woolsey Fire caused widespread damage throughout California."
   ]
  },
  {
   "cell_type": "code",
   "execution_count": null,
   "id": "extreme-round",
   "metadata": {
    "execution": {
     "iopub.execute_input": "2021-05-23T21:35:47.820092Z",
     "iopub.status.busy": "2021-05-23T21:35:47.748081Z",
     "iopub.status.idle": "2021-05-23T21:35:57.862372Z",
     "shell.execute_reply": "2021-05-23T21:35:57.862372Z"
    },
    "tags": [
     "remove_input"
    ]
   },
   "outputs": [],
   "source": [
    "# Create basemap of the Woolsey Fire scar\n",
    "ax = woolsey_fire.to_crs(epsg=3857).plot(alpha=0.6, color=\"r\", figsize=(8, 6))\n",
    "\n",
    "dim = 0.4\n",
    "axin = ax.inset_axes([-0.057, 1 - dim, dim, dim])\n",
    "ca_bound.to_crs(epsg=3857).plot(ax=axin, facecolor=\"gainsboro\", edgecolor=\"none\")\n",
    "woolsey_fire.envelope.to_crs(epsg=3857).plot(ax=axin, facecolor=\"k\", edgecolor=\"k\")\n",
    "\n",
    "cx.add_basemap(ax, source=cx.providers.Stamen.TerrainBackground)\n",
    "\n",
    "ax.set(title=\"Boundary of the Woolsey Fire\", xticks=[], yticks=[])\n",
    "axin.set(xticks=[], yticks=[])\n",
    "\n",
    "pass"
   ]
  },
  {
   "cell_type": "markdown",
   "id": "eacdba92",
   "metadata": {},
   "source": [
    "**Figure 1.** Woolsey Fire boundary. Inset shows the location of the study area in California."
   ]
  },
  {
   "cell_type": "markdown",
   "id": "coral-return",
   "metadata": {},
   "source": [
    "Wildfires like the Woolsey Fire pose an increasing threat to life, property and ecosystems in the American West. Larger fires and longer fire seasons stress emergency response personnel and budgets while more people move into the urban-wildland interface where fires are more likely. Understanding the factors that drive wildfires may allow authorities better manage them, mitigating some risks in the fire-prone West.\n",
    "\n",
    "Drought influences fire severity by drying out soil and killing vegetation that can serve as fuel. The Woolsey Fire was preceded by a four-year drought (2013-2016) that resulted in a significant dieback of grass, shrubs, and trees throughout California. How did that dieback influence the spread and severity of the Woolsey Fire? Previous work on insect-related diebacks does not offer a clear answer to this question, except to suggest that the effect of diebacks on fire severity depends strongly on local conditions (Bond et al., 2009; Hicke et al., 2012).\n",
    "\n",
    "In this project, we will examine the relationship between vegetation mortality and burn severity during the Woolsey Fire by using a machine-learning approach to analyze pre- and post-fire satellite imagery. We plan to test the following hypotheses:\n",
    "\n",
    "+ Areas with greater vegetation mortality will show worse burn severity\n",
    "+ Areas with older vegetation mortality will show worse burn severity"
   ]
  },
  {
   "cell_type": "markdown",
   "id": "stopped-composition",
   "metadata": {},
   "source": [
    "## Data sources\n",
    "\n",
    "This study leverages data collected for an earlier survey of the 2013-2016 drought (Foster et al., 2017; Table 1). That study's authors used high-resolution data from NASA's AVIRIS sensor to create vegetation community (Fig. 2) and fraction-alive (FAL) maps (Fig. 3) that document the health of the vegetation in the area later burned by the Woolsey Fire. They also compiled 4 km climate data to understand how different communities reacted to the prolonged drought. Using the FAL data, we also calculated fraction-alive difference (dFAL) plots to quantify changes in vegetation mortality during each year of the California drought.\n",
    "\n",
    "We are also using burn severity data for the Woolsey Fire from Monitoring Trends in Burn Severity (MTBS), an interagency program that creates normalized, field-validated Normalized Burn Ratio difference (dNBR) plots for recent wildfires (Fig. 4).\n",
    "\n",
    "### Table 1. Data Sources\n",
    "| Data Type | Source | Description | Source Spatial Resolution |\n",
    "| :---: | :--- | :---: | :---: |\n",
    "| Vegetation Community | NASA | Classified vegetation communities;<br> derived from AVIRIS sensor data | 15.6 m | \n",
    "| Relative Fraction Alive (RFAL) | NASA | Proxy for healthy vegetation;<br> time series from 2013-16 | 15.6 m | \n",
    "| Difference Normalized Burned Ratio (dNBR) | MTBS | Indicator of burn severity; derived from <br> Sentinel-2 data from 2017 and 2018 | 30 m | \n",
    "| Digital Elevation Model (DEM) | USGS | Elevation data for characterizing terrain;<br>used to create derivatives such as slope and aspect | 1 m | \n",
    "| Weather | NRCS | Data layers obtained include Days of Precipitation, <br> Vapor Pressure Deficit, Minimum Temperature, <br> Days over 95 Degrees, Cumulative Precipitation. <br> These data represent annual aggregates for the years 2013-2016. | 4 km | "
   ]
  },
  {
   "cell_type": "code",
   "execution_count": null,
   "id": "354c5282",
   "metadata": {
    "execution": {
     "iopub.execute_input": "2021-05-23T21:35:57.931440Z",
     "iopub.status.busy": "2021-05-23T21:35:57.907677Z",
     "iopub.status.idle": "2021-05-23T21:35:59.687922Z",
     "shell.execute_reply": "2021-05-23T21:35:59.687922Z"
    },
    "tags": [
     "remove_input"
    ]
   },
   "outputs": [],
   "source": [
    "# Make vegetation community plot\n",
    "labels = [\n",
    "    \"No data\",\n",
    "    \"Annual grass\",\n",
    "    \"Chaparral\",\n",
    "    \"Coastal sage scrub\",\n",
    "    \"Oak woodland\",\n",
    "    \"Riparian\",\n",
    "    \"Substrate\"\n",
    "]\n",
    "\n",
    "colors = [\n",
    "    \"white\",\n",
    "    \"tab:green\",\n",
    "    \"tab:olive\",\n",
    "    \"tab:cyan\",\n",
    "    \"tab:red\",\n",
    "    \"tab:blue\",\n",
    "    \"lightgray\"\n",
    "]\n",
    "\n",
    "# Draw plot\n",
    "fig, ax = plt.subplots(figsize=(7, 7))\n",
    "plot_bands(smm_stack[0],\n",
    "           ax=ax,\n",
    "           title=\"Vegetation community map - Woolsey Fire - 15.6 m\",\n",
    "           cmap=ListedColormap(colors),\n",
    "           cbar=False)\n",
    "woolsey_fire.plot(ax=ax, edgecolor=\"k\", facecolor=\"none\", linewidth=2)\n",
    "\n",
    "# Draw legend\n",
    "ep.draw_legend(ax.get_images()[0], \n",
    "               titles=labels,\n",
    "               classes=range(len(labels)),\n",
    "               bbox=(0.01, 0.99))\n",
    "\n",
    "pass"
   ]
  },
  {
   "cell_type": "markdown",
   "id": "3bd6dfef",
   "metadata": {},
   "source": [
    "**Figure 2.** Vegetation community map for the Woolsey Fire scar. Community data was provided by E. Natasha Stavros and was calculated using NASA AVIRIS data (15.6 m resolution)."
   ]
  },
  {
   "cell_type": "code",
   "execution_count": null,
   "id": "03b564a1",
   "metadata": {
    "execution": {
     "iopub.execute_input": "2021-05-23T21:35:59.700781Z",
     "iopub.status.busy": "2021-05-23T21:35:59.699783Z",
     "iopub.status.idle": "2021-05-23T21:36:03.236763Z",
     "shell.execute_reply": "2021-05-23T21:36:03.236763Z"
    },
    "tags": [
     "remove_input"
    ]
   },
   "outputs": [],
   "source": [
    "# Make fraction alive plot\n",
    "\n",
    "# Pull FAL from the SMM stack\n",
    "smm_fal = smm_stack[1:5]\n",
    "\n",
    "# Setting non-positive values to the middle of the range allows matplotlib\n",
    "# to interpolate the diverging color scheme more clearly\n",
    "smm_fal = smm_fal.where(smm_fal >= 0, 0.5)\n",
    "\n",
    "# Image has to be big or the interpolation is terrible\n",
    "fig, (ax1, ax2) = plt.subplots(1, 2, figsize=(14, 7))\n",
    "\n",
    "plot_bands(smm_fal[0],ax=ax1, cmap=\"PiYG\", vmin=0, vmax=1, title=\"FAL (2013)\")\n",
    "plot_bands(smm_fal[3], ax=ax2, cmap=\"PiYG\", vmin=0, vmax=1, title=\"FAL (2016)\")\n",
    "\n",
    "for ax in (ax1, ax2):\n",
    "    woolsey_fire.plot(ax=ax, edgecolor=\"k\", facecolor=\"none\", linewidth=2)\n",
    "    \n",
    "pass"
   ]
  },
  {
   "cell_type": "markdown",
   "id": "9047b66f",
   "metadata": {},
   "source": [
    "**Figure 3.** Fraction-alive (FAL) rasters for 2013 (left) and 2016 (right). FAL is the fraction of green to total vegetation. FAL data was provided by E. Natasha Stavros and was calculated using NASA AVIRIS data (15.6 m resolution)."
   ]
  },
  {
   "cell_type": "code",
   "execution_count": null,
   "id": "eb6cff2b",
   "metadata": {
    "execution": {
     "iopub.execute_input": "2021-05-23T21:36:03.272057Z",
     "iopub.status.busy": "2021-05-23T21:36:03.268916Z",
     "iopub.status.idle": "2021-05-23T21:36:05.093682Z",
     "shell.execute_reply": "2021-05-23T21:36:05.093682Z"
    },
    "tags": [
     "remove_input"
    ]
   },
   "outputs": [],
   "source": [
    "# Make dNBR plot\n",
    "dnbr_cat_names = [\n",
    "    \"Unburned to Low\",\n",
    "    \"Low\",\n",
    "    \"Moderate\",\n",
    "    \"High\",\n",
    "    \"Increased Greenness\"\n",
    "]\n",
    "\n",
    "nbr_colors = [\n",
    "    \"#006400\",\n",
    "    \"#7FFFD4\",\n",
    "    \"#FFFF00\",\n",
    "    \"#FF0000\",\n",
    "    \"#7FFF00\"\n",
    "]\n",
    "nbr_cmap = ListedColormap(nbr_colors)\n",
    "\n",
    "fig, ax = plt.subplots(1, 1, figsize=(7, 7))\n",
    "plot_bands(dnbr_classified.rio.clip(woolsey_fire.geometry),\n",
    "           cmap=nbr_cmap,\n",
    "           vmin=1,\n",
    "           vmax=5,\n",
    "           title=(\"MTBS classified dNBR - Woolsey Fire\\n\"\n",
    "                  \"Dec 15, 2017 - Dec 15, 2018\"),\n",
    "           cbar=False,\n",
    "           scale=False,\n",
    "           ax=ax)\n",
    "woolsey_fire.plot(ax=ax, edgecolor=\"k\", facecolor=\"none\", linewidth=2)\n",
    "\n",
    "ep.draw_legend(im_ax=ax.get_images()[0],\n",
    "               classes=range(5),\n",
    "               titles=dnbr_cat_names,\n",
    "               bbox=(0.01, 0.99))\n",
    "\n",
    "pass"
   ]
  },
  {
   "cell_type": "markdown",
   "id": "49e5dea4",
   "metadata": {},
   "source": [
    "**Figure 4.** Montoring Trends in Burn Severity (MTBS) classified dNBR plot. Calculated by MTBS based on Sentinel-2 (ESA) imagery (30 m resolution)."
   ]
  },
  {
   "cell_type": "markdown",
   "id": "surprised-adventure",
   "metadata": {},
   "source": [
    "## Workflow\n",
    "\n",
    "We plan to use the random-forest machine-learning algorithm to evaluate how vegetation mortality affects burn severity. As such, we must first select the explanatory and response variables we want to model.In order to characterize the relationships between the available data, we are analyzing pairwise linear regressions.\n",
    "\n",
    "We plan to evaluate two aspects of the pre- and post-fire system, both of which have obvious response variables:\n",
    "\n",
    "+ Drought-resistance of different vegetation communities (response=FAL or dFAL)\n",
    "+ Burn severity (response=dNBR)\n",
    "\n",
    "Selecting explanatory variables requires a closer look at the vegetation and climate data. Each data source (described in more detail below) provides data in a different coordinate reference system (CRS), resolution, and extent, so we projected all data to the same CRS, resampled it to the same resolution, and cropped it to the same extent before beginning our analysis. The reprojected data contains roughly 1.6 million pixels inside the Woolsey Fire scar. To reduce computation times, we've filtered the data using two approaches:\n",
    "\n",
    "+ Creating training and validation datasets of a few thousand pixels a piece inside the fire scar. We will ultimately use these subsets to train and validate the random-forest model, but are currently using them to evaluate linear regressions.\n",
    "+ Aggregating high resolution data into 4 km blocks."
   ]
  },
  {
   "cell_type": "markdown",
   "id": "junior-finger",
   "metadata": {},
   "source": [
    "## Preliminary results\n",
    "\n",
    "The pixel data, even when reduced to a sample of a few thousand pixels, is very noisy. For analyses of drought resistance, a major source of noise is the low resolution of the climate data. Each 4 km block of climate data corresponds to thousands of points in the higher-resolution datasets, which span a range of vegetation types, slopes, and elevations, producing large spreads of data. But even the fire data is noisy at the scale of the full dataset or individual vegetation communities. We plan to address this problem as described below in the Future Work section.\n",
    "\n",
    "The 4 km aggregate data has been more useful for finding correlations, but so far the only relationships that we've tested are between dNBR and FAL/dFAL. Burn severity correlates positively with (1) vegetation mortality in 2013 and (2) area of vegetation that died between 2013 and 2014. Fig. 5 shows preliminary correlations between dNBR and FAL for 4 km cells across the four years of the recent drought.\n"
   ]
  },
  {
   "cell_type": "code",
   "execution_count": null,
   "id": "5ff0636b",
   "metadata": {
    "execution": {
     "iopub.execute_input": "2021-05-23T21:36:05.109385Z",
     "iopub.status.busy": "2021-05-23T21:36:05.109385Z",
     "iopub.status.idle": "2021-05-23T21:36:09.987861Z",
     "shell.execute_reply": "2021-05-23T21:36:09.987861Z"
    },
    "tags": [
     "remove_input"
    ]
   },
   "outputs": [],
   "source": [
    "# Increase the font sizes for the regression plots\n",
    "sns.set(font_scale=1.1, style=\"white\")\n",
    "\n",
    "# Approximate upper limit of unburned is 100\n",
    "burned = xr.where(dnbr >= 100, True, False).values\n",
    "\n",
    "# Aggregate data and plot regressions\n",
    "fig, axes = plt.subplots(1, 4, figsize=(16, 4.5))\n",
    "fig.suptitle(\"Aggregated burn severity vs. fraction alive (2013-2016)\")\n",
    "axes = list(axes)\n",
    "\n",
    "for i, year in enumerate(range(2013, 2017)):\n",
    "\n",
    "    # Read x and y\n",
    "    x = smm_fal[i].copy()\n",
    "    y = dnbr.copy()\n",
    "\n",
    "    # Mask nodata values\n",
    "    x = x.where(x >= -1e38, np.nan)\n",
    "    y = y.where(y >= -1e38, np.nan)\n",
    "    \n",
    "    # Mask unburned pixels\n",
    "    x = x.where(burned)\n",
    "    y = y.where(burned)\n",
    "\n",
    "    # Aggregate along the PRISM grid\n",
    "    x = aggregate(x, prism_grid)\n",
    "    y = aggregate(y, prism_grid)\n",
    "    \n",
    "    # Convert to 1D arrays\n",
    "    x = np.ravel(x)\n",
    "    y = np.ravel(y)\n",
    "\n",
    "    # Limit to values that are finite and nonzero in both arrays\n",
    "    mask = x * y\n",
    "    x = x[np.isfinite(mask)]\n",
    "    y = y[np.isfinite(mask)]\n",
    "\n",
    "    # Plot regression\n",
    "    plot_regression(x, y, axes.pop(0),\n",
    "                    color=\"gray\",\n",
    "                    title=year,\n",
    "                    xlabel=\"FAL\",\n",
    "                    ylabel=\"dNBR\")"
   ]
  },
  {
   "cell_type": "markdown",
   "id": "da291803",
   "metadata": {},
   "source": [
    "**Figure 5.** Linear regressions between dNBR and FAL across all four years of the California drought. Data is aggregated to the 4 km grid used by the PRISM gridded climate data. FAL data was provided by E. Natasha Stavros and was calculated using NASA AVIRIS data. dNBR data was calculated by MTBS."
   ]
  },
  {
   "cell_type": "markdown",
   "id": "occasional-blair",
   "metadata": {},
   "source": [
    "## Future work\n",
    "\n",
    "We plan to address the noise in the sampled data by looking at specific subsets. So far, we have only looked at individual vegetation communities across the full study area, but we plan to combine community data with climate, elevation and slope data to identify subsets that respond clearly to drought or fire. We also plan to refine the aggregation methods mentioned above and investigate additional variables using the 4 km blocks.\n",
    "\n",
    "Once we've selected the explanatory variables, we will begin running random-forest models to evaluate how well each explanatory value predicts a response.\n"
   ]
  },
  {
   "cell_type": "markdown",
   "id": "38b22108",
   "metadata": {},
   "source": [
    "## Acknowledgments\n",
    "\n",
    "I would like to acknowledge Michael Sutherland for his contributions to this project as part of the Earth Analytics course in Spring 2021."
   ]
  },
  {
   "cell_type": "markdown",
   "id": "ce4e7bb4",
   "metadata": {},
   "source": [
    "## References\n",
    "\n",
    "+ Bond ML, Lee DE, Bradley CM, Hanson CT. 2008. Influence of Pre-Fire Tree Mortality on Fire Severity in Conifer Forests of the San Bernardino Mountains, California. Open For Sci Jour. 2: 41-47.\n",
    "\n",
    "\n",
    "+ Foster K, Queally N, Nickmeyer A, Rousseau N. 2017. Utilizing NASA Earth Observations to Determine Drought Dieback and Insect-related Damage in the Santa Monica Mountains, California. Available from: https://develop.larc.nasa.gov/2017/fall/posters/2017Fall_JPL_SantaMonicaMountainsEcoII_Poster.pdf\n",
    "\n",
    "\n",
    "+ Hicke JA, Johnson MC, Hayes JL, Presiler HK. 2012. Effects of bark beetle-caused tree mortality on wildfire. For Ecol Manag. 271: 81-90. DOI: [10.1016/j.foreco.2012.02.005](https://doi.org/10.1016/j.foreco.2012.02.005). "
   ]
  },
  {
   "cell_type": "code",
   "execution_count": null,
   "id": "b72980f8",
   "metadata": {},
   "outputs": [],
   "source": []
  }
 ],
 "metadata": {
  "celltoolbar": "Tags",
  "kernelspec": {
   "display_name": "Python 3",
   "language": "python",
   "name": "python3"
  },
  "language_info": {
   "codemirror_mode": {
    "name": "ipython",
    "version": 3
   },
   "file_extension": ".py",
   "mimetype": "text/x-python",
   "name": "python",
   "nbconvert_exporter": "python",
   "pygments_lexer": "ipython3",
   "version": "3.9.4"
  },
  "toc": {
   "base_numbering": 1,
   "nav_menu": {},
   "number_sections": true,
   "sideBar": true,
   "skip_h1_title": false,
   "title_cell": "Table of Contents",
   "title_sidebar": "Contents",
   "toc_cell": false,
   "toc_position": {},
   "toc_section_display": true,
   "toc_window_display": false
  }
 },
 "nbformat": 4,
 "nbformat_minor": 5
}
