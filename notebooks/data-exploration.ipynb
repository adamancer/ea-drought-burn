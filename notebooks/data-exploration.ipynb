{
 "cells": [
  {
   "cell_type": "markdown",
   "id": "split-mistress",
   "metadata": {},
   "source": [
    "# Woolsey Fire Data Exploration\n",
    "\n",
    "This notebook plots satellite and model data related to the 2018 Woolsey Fire, including vegetation, climate, topography, and fire history. The Woolsey Fire ignited on **8 Nov 2018** and was fully contained on **21 Nov 2018**."
   ]
  },
  {
   "cell_type": "code",
   "execution_count": null,
   "id": "supreme-cassette",
   "metadata": {},
   "outputs": [],
   "source": [
    "import os\n",
    "\n",
    "import earthpy as et\n",
    "import earthpy.plot as ep\n",
    "from matplotlib import cm\n",
    "from matplotlib.colors import ListedColormap\n",
    "import matplotlib.pyplot as plt\n",
    "import numpy as np\n",
    "import seaborn as sns\n",
    "import xarray as xr\n",
    "\n",
    "from ea_drought_burn.config import DATA_DIR\n",
    "from ea_drought_burn.notebooks import run_notebook\n",
    "from ea_drought_burn.utils import draw_legend, plot_bands, plot_rgb\n",
    "\n",
    "\n",
    "\n",
    "\n",
    "# Set working directory to the earthpy data directory\n",
    "os.chdir(os.path.join(DATA_DIR, \"woolsey-fire\"))\n",
    "\n",
    "# Set base plot style\n",
    "sns.set(font_scale=1.2, style=\"white\")\n",
    "plt.rc(\"figure.constrained_layout\", use=True, h_pad=15/72, w_pad=15/72)\n",
    "\n",
    "# Disable interpolation to prevent NaN erosion\n",
    "plt.rc(\"image\", interpolation=None)"
   ]
  },
  {
   "cell_type": "code",
   "execution_count": null,
   "id": "arctic-hammer",
   "metadata": {},
   "outputs": [],
   "source": [
    "def plot_many(\n",
    "    bands,\n",
    "    titles,\n",
    "    boundary,\n",
    "    width=14,\n",
    "    suptitle=None,\n",
    "    ncols=2,\n",
    "    **kwargs\n",
    "):\n",
    "    \"\"\"Plots any number of bands in two columns\n",
    "    \n",
    "    Arguments\n",
    "    ---------\n",
    "    bands: list of arrays\n",
    "        arrays to plot\n",
    "    titles: list of str\n",
    "        titles for each axis\n",
    "    boundary: geopandas.GeoDataFrame\n",
    "        boundary to draw on plot\n",
    "    width: int or float (optional)\n",
    "        width of the figure in inches\n",
    "    suptitle: str (optional)\n",
    "        title for the figure\n",
    "    ncols: int\n",
    "        number of columns\n",
    "    kwargs:\n",
    "        any keyword argument accepted by `plot_bands`\n",
    "        \n",
    "    Returns\n",
    "    -------\n",
    "    None\n",
    "    \"\"\"\n",
    "    \n",
    "    # Scale fonts\n",
    "    sns.set(font_scale=1.2 * width / 14, style=\"white\")\n",
    "    \n",
    "    # Scale outline\n",
    "    bound_kwargs = {\"edgecolor\": \"black\", \"facecolor\": \"none\", \"linewidth\": 2}\n",
    "    bound_kwargs[\"linewidth\"] *= width // 14\n",
    "    \n",
    "    # Set height based on number rows\n",
    "    nrows = int(np.ceil(len(bands) / ncols))\n",
    "    height = (width / ncols - 1.5) * nrows\n",
    "\n",
    "    fig, axes = plt.subplots(nrows, ncols, figsize=(width, height))\n",
    "    \n",
    "    if suptitle:\n",
    "        fig.suptitle(suptitle)\n",
    "    \n",
    "    # Flatten axes into a 1D list\n",
    "    axes_flat = []\n",
    "    for row in axes:\n",
    "        try:\n",
    "            axes_flat.extend(row)\n",
    "        except TypeError:\n",
    "            axes_flat.append(row)\n",
    "          \n",
    "    # Delete last axis if not an even number of bands\n",
    "    if len(bands) % 2:\n",
    "        axes_flat[-1].remove()\n",
    "\n",
    "    for ax, title, band in zip(axes_flat, titles, bands):\n",
    "        plot_bands(band, ax=ax, title=str(title), **kwargs)\n",
    "        boundary.plot(ax=ax, **bound_kwargs)\n",
    "    \n",
    "    sns.set(font_scale=1.2, style=\"white\")"
   ]
  },
  {
   "cell_type": "markdown",
   "id": "afa6ac36",
   "metadata": {},
   "source": [
    "## Restore and prepare data\n",
    "\n",
    "To ensure consitency across notebooks and avoid repeating code, all data is loaded using **load_data.ipynb** and restored as needed in individual notebooks. Please see that notebook for details about the sources of data used here."
   ]
  },
  {
   "cell_type": "code",
   "execution_count": null,
   "id": "06bfc250",
   "metadata": {},
   "outputs": [],
   "source": [
    "# Check for stored ready variable and run load-data.ipynb if not found\n",
    "%store -r woolsey_data_ready\n",
    "try:\n",
    "    woolsey_data_ready\n",
    "except NameError:\n",
    "    print(\"Running load-data.ipynb...\")\n",
    "    run_notebook(\"load-data.ipynb\")\n",
    "\n",
    "# Retore variables using storemagic. Each variable is restored explicitly to\n",
    "# avoid confusion about where variable names are coming from.\n",
    "%store -r all_data\n",
    "%store -r reproj_to\n",
    "%store -r res\n",
    "%store -r prism_2018\n",
    "\n",
    "%store -r hill_fire\n",
    "%store -r woolsey_fire\n",
    "%store -r hill_and_woolsey_fires\n",
    "\n",
    "%store -r cmap_dnbr\n",
    "%store -r labels_dnbr\n",
    "%store -r cmap_vegetation\n",
    "%store -r labels_vegetation\n",
    "%store -r prism_grid\n",
    "\n",
    "# Set crop and fire boundaries\n",
    "fire_name = \"Woolsey Fire\"\n",
    "fire_bound = hill_and_woolsey_fires\n",
    "crop_bound = fire_bound.envelope\n",
    "\n",
    "# Crop all data to the Hill Fire if using that as bound\n",
    "if fire_bound.iloc[0].geometry == hill_fire.iloc[0].geometry:\n",
    "    all_data = {k: v.rio.clip(crop_bound) for  k, v in all_data.items()}"
   ]
  },
  {
   "cell_type": "markdown",
   "id": "a5492b9e",
   "metadata": {},
   "source": [
    "## SRTM topographic data"
   ]
  },
  {
   "cell_type": "code",
   "execution_count": null,
   "id": "0dcda240",
   "metadata": {},
   "outputs": [],
   "source": [
    "fig, ((ax1, ax2), (ax3, ax4)) = plt.subplots(2, 2, figsize=(14, 11))\n",
    "fig.suptitle(f\"{fire_name} - Topography - SRTM - {res} m\")\n",
    "plot_bands(all_data[\"Elevation\"], ax=ax1, title=\"Elevation\")\n",
    "plot_bands(all_data[\"Slope\"], ax=ax2, title=\"Slope\")\n",
    "plot_bands(all_data[\"Aspect\"], ax=ax3, title=\"Aspect\")\n",
    "plot_bands(all_data[\"Folded Aspect\"], ax=ax4, title=\"Folded Aspect\")\n",
    "\n",
    "# Plot Woolsey Fire boundary\n",
    "for ax in (ax1, ax2):\n",
    "    fire_bound.plot(ax=ax, edgecolor=\"white\", facecolor=\"none\", linewidth=2)\n",
    "for ax in (ax3, ax4):\n",
    "    fire_bound.plot(ax=ax, edgecolor=\"black\", facecolor=\"none\", linewidth=2)"
   ]
  },
  {
   "cell_type": "markdown",
   "id": "1f1d901c",
   "metadata": {},
   "source": [
    "**Description:** Topographic data for the Woolsey Fire scar, including elevation, slope, aspect, and folded aspect. Folded aspect. calculated as *|180 - |aspect - 225||*, converts aspect into a linear parameter where hotness/dryness increases moving from 0° (for a northeast-facing slope) to 180° (for a southwest-facing slope) (McCune and Keon, 2002)."
   ]
  },
  {
   "cell_type": "markdown",
   "id": "371c2abe",
   "metadata": {},
   "source": [
    "## Sentinel-2 pre- and post-fire images\n",
    "\n",
    "Pre- and post-fire Sentinel-2 imagery is much better than the available Landsat images, which are obscured by smoke or clouds through early 2019."
   ]
  },
  {
   "cell_type": "code",
   "execution_count": null,
   "id": "fcf86c5b",
   "metadata": {},
   "outputs": [],
   "source": [
    "# Set size and style\n",
    "sns.set(font_scale=1.2, style=\"white\")\n",
    "\n",
    "# Plot the pre- and post-fire images\n",
    "fig, (ax1, ax2) = plt.subplots(1, 2, figsize=(14, 7))\n",
    "fig.suptitle(f\"{fire_name} - Sentinel-2 imagery - {res} m\")\n",
    "\n",
    "# Plot pre-fire image\n",
    "plot_rgb(all_data[\"Sentinel-2 Prefire\"], \n",
    "         ax=ax1,\n",
    "         rgb=[3, 2, 1],\n",
    "         stretch=True, title=\"Pre-fire - 31 Oct 2018\")\n",
    "\n",
    "# Plot post-fire image\n",
    "plot_rgb(all_data[\"Sentinel-2 Postfire\"],\n",
    "         ax=ax2,\n",
    "         rgb=[3, 2, 1],\n",
    "         stretch=True,\n",
    "         title=\"Post-fire - 15 Dec 2018\")\n",
    "\n",
    "# Plot Woolsey Fire boundary\n",
    "for ax in (ax1, ax2, ax3, ax4):\n",
    "    fire_bound.plot(ax=ax, edgecolor=\"white\", facecolor=\"none\", linewidth=2)"
   ]
  },
  {
   "cell_type": "markdown",
   "id": "95aa9c90",
   "metadata": {},
   "source": [
    "### Spectral indices\n",
    "\n",
    "I calculated the following spectral indices based on the Sentinel-2 data:\n",
    "\n",
    "+ **[Normalized Difference Vegetation Index (NDVI)](https://www.usgs.gov/core-science-systems/nli/landsat/landsat-normalized-difference-vegetation-index)**\n",
    "  assesses vegetation health. Calculated as `(nir_842 - red) / (nir_842 + red)`.\n",
    "+ **[Soil Adjusted Vegetation Index (SAVI)](https://www.usgs.gov/core-science-systems/nli/landsat/landsat-soil-adjusted-vegetation-index)**\n",
    "  assesses vegetation health modified for low-cover pixels. Calculated as \n",
    "  `1.5 * (nir_842 - red) / (nir_842 + red + 0.5)`\n",
    "+ **Normalized Difference Water Index (NDWI)** estimates vegetation water content.\n",
    "  Formula modified from Gao (1996) to use an the 1610 nm band instead of the 1240\n",
    "  nm band. Calculated as\n",
    "  `(nir_865 - swir_1610) / (nir_865 + swir_1610)`.\n",
    "+ **[Normalized Difference Moisture Index (NDMI)](https://www.usgs.gov/core-science-systems/nli/landsat/normalized-difference-moisture-index)**\n",
    "  estimates vegetation water content. Calculated as\n",
    "  `(nir_842 - swir_1610) / (nir_842 + swir_1610)`.\n",
    "  \n",
    "NDVI and SAVI are similar, and NDWI and NDMI are *very* similar."
   ]
  },
  {
   "cell_type": "code",
   "execution_count": null,
   "id": "71c24e39",
   "metadata": {},
   "outputs": [],
   "source": [
    "# Set size and style\n",
    "sns.set(font_scale=1.2, style=\"white\")\n",
    "\n",
    "# Plot pre-fire Sentinel-2 spectral indides\n",
    "fig, ((ax1, ax2), (ax3, ax4)) = plt.subplots(2, 2, figsize=(14, 11))\n",
    "fig.suptitle(f\"{fire_name} - Sentinel-2 Spectral Indices - {res} m\\n\"\n",
    "              \"31 Oct 2018 (pre-fire)\")\n",
    "\n",
    "axes = (ax1, ax2, ax3, ax4)\n",
    "keys = (\"NDVI (2018)\", \"SAVI (2018)\", \"NDWI (2018)\", \"NDMI (2018)\")\n",
    "\n",
    "for key, ax in zip(keys, axes):\n",
    "    plot_bands(all_data[key],\n",
    "               ax=ax,\n",
    "               cmap=\"RdYlGn\",\n",
    "               vmin=-1,\n",
    "               vmax=1,\n",
    "               title=key)\n",
    "\n",
    "# Plot Woolsey Fire boundary\n",
    "for ax in (ax1, ax2, ax3, ax4):\n",
    "    fire_bound.plot(ax=ax, edgecolor=\"black\", facecolor=\"none\", linewidth=1)"
   ]
  },
  {
   "cell_type": "markdown",
   "id": "c59c8a2b",
   "metadata": {},
   "source": [
    "**Description:** Pre-fire NDMI and NDWI show a pattern broadly similar to the one seen in the FAL data within the Woolsey Fire scar. Low NDVI values (below 0 in much of the scar) indicate some combination of low moisture content and low cover."
   ]
  },
  {
   "cell_type": "markdown",
   "id": "9938e60b",
   "metadata": {},
   "source": [
    "### Burn severity"
   ]
  },
  {
   "cell_type": "code",
   "execution_count": null,
   "id": "185373d5",
   "metadata": {},
   "outputs": [],
   "source": [
    "# Set size and style\n",
    "sns.set(font_scale=1.2, style=\"white\")\n",
    "\n",
    "# Plot Sentinel-2 dNBR and classified dNBR\n",
    "fig, (ax1, ax2) = plt.subplots(1, 2, figsize=(14, 5.5))\n",
    "\n",
    "plot_bands(all_data[\"Sentinel-2 dNBR\"],\n",
    "           ax=ax1,\n",
    "           cmap=\"RdYlGn_r\",\n",
    "           vmin=all_data[\"MTBS dNBR\"].min(),  # use MTBS min so plots same\n",
    "           vmax=all_data[\"MTBS dNBR\"].max(),  # use MTBS max so plots same\n",
    "           title=(f\"{fire_name} - Sentinel dNBR - {res} m\\n\"\n",
    "                   \"31 Oct 2018 - 15 Dec 2018\"))\n",
    "\n",
    "plot_bands(all_data[\"Sentinel-2 Classified dNBR\"],\n",
    "           ax=ax2,\n",
    "           cmap=cmap_dnbr,\n",
    "           vmin=1,\n",
    "           vmax=5,\n",
    "           title=(f\"{fire_name} - Sentinel-2 classified dNBR - {res} m\\n\"\n",
    "                   \"31 Oct 2018 - 15 Dec 2018\"),\n",
    "           cbar=False,\n",
    "           scale=False)\n",
    "\n",
    "# Draw legend\n",
    "draw_legend(im_ax=ax2.get_images()[0],\n",
    "            classes=range(5),\n",
    "            titles=labels_dnbr,\n",
    "            bbox=(0.01, 0.99))\n",
    "\n",
    "# Plot Woolsey Fire boundary\n",
    "for ax in (ax1, ax2):\n",
    "    fire_bound.plot(ax=ax, edgecolor=\"black\", facecolor=\"none\", linewidth=1)"
   ]
  },
  {
   "cell_type": "markdown",
   "id": "1445b35c",
   "metadata": {},
   "source": [
    "**Description:** The Sentinel-2 burn-severity plots show a similar pattern to the MTBS plots below but have generally higher burn severities, including a larger number of high-severity pixels and a smaller number of unburned pixels."
   ]
  },
  {
   "cell_type": "markdown",
   "id": "41a28d66",
   "metadata": {},
   "source": [
    "## MTBS burn severity plots\n",
    "\n",
    "MTBS provides normalized, field-validated dNBR plots for recent U.S. wildfires that are more reliable than those that, like the one I calculated above, are made solely from satellite images. A key benefit of the MTBS data is that field validation allows the mappers to use fire-specific bins for assessing the classes of burn severity."
   ]
  },
  {
   "cell_type": "code",
   "execution_count": null,
   "id": "78a6e9a1",
   "metadata": {},
   "outputs": [],
   "source": [
    "# Set size and style\n",
    "sns.set(font_scale=1.2, style=\"white\")\n",
    "\n",
    "# Plot MTBS dNBR and classified dNBR\n",
    "fig, (ax1, ax2) = plt.subplots(1, 2, figsize=(14, 5.5))\n",
    "\n",
    "plot_bands(all_data[\"MTBS dNBR\"],\n",
    "           ax=ax1,\n",
    "           cmap=\"RdYlGn_r\",\n",
    "           title=(f\"{fire_name} - MTBS dNBR - {res} m\\n\"\n",
    "                   \"Dec 15, 2017 - Dec 15, 2018\"))\n",
    "\n",
    "plot_bands(all_data[\"MTBS Classified dNBR\"],\n",
    "           ax=ax2,\n",
    "           cmap=cmap_dnbr,\n",
    "           vmin=1,\n",
    "           vmax=5,\n",
    "           title=(f\"{fire_name} - MTBS classified dNBR - {res} m\\n\"\n",
    "                   \"Dec 15, 2017 - Dec 15, 2018\"),\n",
    "           cbar=False,\n",
    "           scale=False)\n",
    "\n",
    "# Draw legend\n",
    "draw_legend(im_ax=ax2.get_images()[0],\n",
    "            classes=range(5),\n",
    "            titles=labels_dnbr,\n",
    "            bbox=(0.01, 0.99))\n",
    "\n",
    "\n",
    "# Plot Woolsey Fire boundary\n",
    "for ax in (ax1, ax2):\n",
    "    fire_bound.plot(ax=ax, edgecolor=\"black\", facecolor=\"none\", linewidth=1)"
   ]
  },
  {
   "cell_type": "markdown",
   "id": "boring-nickname",
   "metadata": {},
   "source": [
    "## Woolsey Fire Stack\n",
    "\n",
    "The original data included a second stack, WoolseyFireDataStack2, that included some Landsat data and BARC burn severity data, as well as the FAL data included in the SMM stack. All of that content is replicated elsewhere, and this file is not included in the final version of the data for this project.\n",
    "\n",
    "+ **Landsat:** The WoolseyFireDataStack2 file contains two sets of Landsat files,\n",
    "  one from 2017-10-24 and one from 2018-10-18. Both pre-date the Woolsey fire and\n",
    "  include only bands 4 (red) and 7 (SWIR2). None of the spectral indices I'm aware\n",
    "  of use those two bands.\n",
    "+ **BARC:** BARC stands for Burned Area Reflectance Classification and is a \n",
    "  burn-severity index similar to dNBR. We decided to use the MTBS dNBR data\n",
    "  instead."
   ]
  },
  {
   "cell_type": "markdown",
   "id": "parallel-brake",
   "metadata": {},
   "source": [
    "## Santa Monica Mountain Stack\n",
    "\n",
    "The Santa Monica Mountain (SMM) stack includes data about the vegetation and climate of the Santa Monica Mountain region in 2013-2016, which was a period of extreme to exceptional drought in southern California. This data was provided by Natasha Stavros and was compiled for a study about the drought (Dagit et al., 2017)."
   ]
  },
  {
   "cell_type": "markdown",
   "id": "24164c59",
   "metadata": {},
   "source": [
    "### Vegetation community\n",
    "\n",
    "Vegetation communities as estimated for the Dagit et al. (2017) study are plotted below."
   ]
  },
  {
   "cell_type": "code",
   "execution_count": null,
   "id": "needed-norway",
   "metadata": {},
   "outputs": [],
   "source": [
    "# Set size and style\n",
    "sns.set(font_scale=1.2, style=\"white\")\n",
    "\n",
    "# Plot vegetation community\n",
    "fig, ax = plt.subplots(figsize=(12, 7))\n",
    "plot_bands(all_data[\"Community\"],\n",
    "           ax=ax,\n",
    "           title=\"Santa Monica Mountains vegetation communities - 30 m\",\n",
    "           cmap=cmap_vegetation,\n",
    "           cbar=False)\n",
    "fire_bound.plot(ax=ax, edgecolor=\"black\", facecolor=\"none\", linewidth=2)\n",
    "\n",
    "# Calculate percentages for each community\n",
    "total = np.sum(np.isfinite(all_data[\"Community\"]))\n",
    "titles = []\n",
    "for i, label in enumerate(labels_vegetation):\n",
    "    pct = (np.sum(all_data[\"Community\"] == i + 1) / total).item()\n",
    "    titles.append(f\"{label} ({pct:.0%})\")\n",
    "\n",
    "# Draw legend\n",
    "ep.draw_legend(ax.get_images()[0],\n",
    "               bbox=(1.02, 1),\n",
    "               titles=titles,\n",
    "               classes=range(len(titles)))\n",
    "\n",
    "pass"
   ]
  },
  {
   "cell_type": "markdown",
   "id": "c0457be8",
   "metadata": {},
   "source": [
    "**Description:** Many of the salients into and low-severity burn areas within the fire scar are classified as substrate. Moderate- and high-severity burns appear mostly in the chapparal-dominated southern half of the scar."
   ]
  },
  {
   "cell_type": "code",
   "execution_count": null,
   "id": "da5f47f0",
   "metadata": {},
   "outputs": [],
   "source": [
    "# Set size and style\n",
    "sns.set(font_scale=1.2, style=\"white\")\n",
    "\n",
    "bands = []\n",
    "for i in range(1, 7):\n",
    "    bands.append(all_data[\"Community\"].where(all_data[\"Community\"] == i) \\\n",
    "                                      .rio.clip(fire_bound.geometry))\n",
    "\n",
    "# Plot each vegetation community separately\n",
    "plot_many(bands,\n",
    "          titles,\n",
    "          fire_bound,\n",
    "          suptitle=\"Woolsey Fire scar vegetation communities\",\n",
    "          cmap=\"Greys_r\",\n",
    "          cbar=False,\n",
    "          scale=False)"
   ]
  },
  {
   "cell_type": "markdown",
   "id": "0982fff3",
   "metadata": {},
   "source": [
    "**Description:** The main thing to note here is that the distribution of oak woodlands closely matches the burn-severity pattern in the MTBS data."
   ]
  },
  {
   "cell_type": "code",
   "execution_count": null,
   "id": "a253e5fe",
   "metadata": {},
   "outputs": [],
   "source": [
    "# Set size and style\n",
    "sns.set(font_scale=1.3, style=\"white\")\n",
    "\n",
    "# Plot burn-severity histograms for each community\n",
    "dnbr_colors = [\n",
    "    \"#006400\",\n",
    "    \"#7FFFD4\",\n",
    "    \"#FFFF00\",\n",
    "    \"#FF0000\",\n",
    "    \"#7FFF00\"\n",
    "]\n",
    "\n",
    "comm = all_data[\"Community\"].values\n",
    "burn = all_data[\"MTBS Classified dNBR\"].values\n",
    "\n",
    "fig, ((ax1, ax2), (ax3, ax4), (ax5, ax6)) = plt.subplots(\n",
    "    3, 2, figsize=(12, 10), sharex=True, sharey=True\n",
    ")\n",
    "fig.suptitle(\"Burn severity histograms by community\")\n",
    "all_counts = []\n",
    "for i, ax in enumerate((ax1, ax2, ax3, ax4, ax5, ax6)):\n",
    "    \n",
    "    arr = burn[comm == (i + 1)]\n",
    "    \n",
    "    counts = {}\n",
    "    for j in range(1, 5):\n",
    "        label = labels_dnbr[j - 1].replace(\" \", \"\\n\", 1)\n",
    "        counts[label] = np.sum(arr == j)\n",
    "    \n",
    "    # Calculate percentages\n",
    "    pcts = [f\"{c / sum(counts.values()):.0%}\" for c in counts.values()]\n",
    "    all_counts.extend(counts.values())\n",
    "\n",
    "    # Label bars\n",
    "    container = ax.bar(counts.keys(), counts.values(), color=dnbr_colors)\n",
    "    ax.bar_label(container, pcts)\n",
    "    ax.set(title=labels_vegetation[i], yticklabels=[])\n",
    "\n",
    "    # Rotate labels\n",
    "    for label in ax.get_xticklabels():\n",
    "        label.set_rotation(90) \n",
    "\n",
    "# Pad ylim so percentage labels fit\n",
    "ax.set(ylim=(0, max(all_counts) * 1.2))\n",
    "\n",
    "pass"
   ]
  },
  {
   "cell_type": "markdown",
   "id": "70d704e1",
   "metadata": {},
   "source": [
    "**Description:** Severe burns are concentrated in oak woodlands > riparian > chaparral. The bands of red pixels in the dNBR images correspond mostly to a mixture of these three communities. Oaks may be driving this, since their distribution closely aligns with the distribution of red pixels."
   ]
  },
  {
   "cell_type": "markdown",
   "id": "6ec3cf20",
   "metadata": {},
   "source": [
    "### Fraction alive\n",
    "\n",
    "Fraction-alive (FAL or RFAL) measures the ratio of healthy vegetation (green) to total vegetation (green plus brown). Living vegetation on the 2016 FAL plot has a similar distribution to the areas of highest burn severity during the Woolsey Fire, which was one of the observations that lead to this project. FAL data is only available through 2016, which leaves a two-year gap between the last snapshot of vegetation health and the Woolsey Fire, but pre-fire spectral indices like NDWI show a similar pattern in 2018."
   ]
  },
  {
   "cell_type": "code",
   "execution_count": null,
   "id": "cardiac-shoot",
   "metadata": {},
   "outputs": [],
   "source": [
    "# Plot fraction alive. The FAL plots are all huge because smaller plots have\n",
    "# large white patches that look to me like a problem with interpolating NaNs.\n",
    "plot_many(all_data[\"FAL (2013-2016)\"],\n",
    "          range(2013, 2017),\n",
    "          fire_bound,\n",
    "          suptitle=\"Fraction Alive (FAL)\",\n",
    "          cmap=\"PiYG\",\n",
    "          vmin=0,\n",
    "          vmax=1)"
   ]
  },
  {
   "cell_type": "markdown",
   "id": "bef15f76",
   "metadata": {},
   "source": [
    "#### dFAL\n",
    "\n",
    "dFAL is the year-on-year difference in fraction alive. I calculated this index by subtracting the FAL of the previous year from the current year, so a positive dFAL means that the fraction alive has increased and a negative dFAL means that fraction alive has decreased."
   ]
  },
  {
   "cell_type": "code",
   "execution_count": null,
   "id": "2a6b3cf2",
   "metadata": {},
   "outputs": [],
   "source": [
    "# Plot year-on-year difference in fraction alive\n",
    "plot_many(all_data[\"dFAL (2013-2016)\"],\n",
    "          (\"2013-2014\", \"2014-2015\", \"2015-2016\"),\n",
    "          fire_bound,\n",
    "          suptitle=\"Change in Fraction Alive (dFAL)\",\n",
    "          cmap=\"PiYG\",\n",
    "          vmin=-1,\n",
    "          vmax=1)"
   ]
  },
  {
   "cell_type": "markdown",
   "id": "5fe7e1bf",
   "metadata": {},
   "source": [
    "#### Dead pixels and the dieback threshold\n",
    "\n",
    "Foster et al. (2017) use a threshold of 0.5431 to distinguish dead pixels from\n",
    "live pixels based on a comparison of FAL and a field survey of oaks. The\n",
    "correlation between the aerial and field surveys is poor and only looked at one\n",
    "of the six vegetation communities in the study area, so that threshold is\n",
    "poorly constrained. I've used a threshold of 0.5 below to identify dead pixels."
   ]
  },
  {
   "cell_type": "code",
   "execution_count": null,
   "id": "94400f64",
   "metadata": {},
   "outputs": [],
   "source": [
    "# Plot dead pixels\n",
    "plot_many(all_data[\"Dead (2013-2016)\"],\n",
    "          range(2013, 2017),\n",
    "          fire_bound,\n",
    "          suptitle=\"Dead Pixels (FAL < 0.5)\",\n",
    "          cmap=\"Greys\",\n",
    "          cbar=False)"
   ]
  },
  {
   "cell_type": "markdown",
   "id": "34e843c5",
   "metadata": {},
   "source": [
    "#### Years dead\n",
    "\n",
    "Using the same threshold as above, the years-dead plot tries to quantify how long pixels have been dead for (that is, how long FAL has been less than 0.5). Years are given relative to 2018, although FAL data for 2017 and 2018 is not available. This calculation has some semantic problems at the other edge, too: Anything classified as dead in 2013 was assigned a value of 5, but those pixels could have been like that for way longer than that.\n",
    "\n",
    "The idea behind this metric is that vegetation that has been dead longer may be drier and easier to ignite."
   ]
  },
  {
   "cell_type": "code",
   "execution_count": null,
   "id": "3e8b21cf",
   "metadata": {},
   "outputs": [],
   "source": [
    "# Set size and style\n",
    "sns.set(font_scale=1.2, style=\"white\")\n",
    "\n",
    "# Create custom color map\n",
    "cmap = ListedColormap([\"green\", \"lightgreen\", \"yellow\", \"tan\", \"brown\", \"red\"])\n",
    "\n",
    "fig, ax = plt.subplots(figsize=(12, 7))\n",
    "plot_bands(all_data[\"Years Dead\"],\n",
    "           ax=ax,\n",
    "           title=\"Years Dead (FAL < 0.5)\",\n",
    "           cmap=cmap,\n",
    "           cbar=None)\n",
    "\n",
    "fire_bound.plot(ax=ax, edgecolor=\"black\", facecolor=\"none\", linewidth=2)\n",
    "\n",
    "# Draw legend. This function forces the font size to 13, so the plot canvas\n",
    "# can only be so big before the legend becomes illegible.\n",
    "draw_legend(ax.get_images()[0], \n",
    "            titles=[str(i) for i in range(6)],\n",
    "            classes=range(6))\n",
    "\n",
    "pass"
   ]
  },
  {
   "cell_type": "markdown",
   "id": "2343998c",
   "metadata": {},
   "source": [
    "### Climate data for 2013-2016\n",
    "\n",
    "The SMM stack includes climate data from the PRISM project. The area burned by the Woolsey Fire experienced severe drought from mid-2013 through early 2017. The climate data covers most of this range but does not go all the way through the Woolsey Fire in Nov 2018. Climate data is aggregated to the water year (Oct 1-Sep 30), not the calendar year, and covers the worst part of the 2013-2017 California drought. \n",
    "\n",
    "Based on maps from the U.S. Drought Monitor, the Santa Monica Mountains were in:\n",
    "\n",
    "+ **Exceptional drought** from Jul 2014 to Jan 2017\n",
    "+ **Extreme drought** from Jan 2014 to Jan 2017\n",
    "+ **Severe drought** from Jul 2013 to Jan 2017\n",
    "+ **Moderate drought** from Mar 2012 on\n",
    "\n",
    "In the plots below, green can generally be understood as being wetter/cooler and yellow as hotter/drier. Colors in each set of plots are scaled to the same range. The highest, driest conditions in the area burned during the Woolsey Fire generally occurred in the northeastern part of the scar."
   ]
  },
  {
   "cell_type": "markdown",
   "id": "69ee9865",
   "metadata": {},
   "source": [
    "#### Days with precipitation over 0.1 inchdes"
   ]
  },
  {
   "cell_type": "code",
   "execution_count": null,
   "id": "progressive-council",
   "metadata": {},
   "outputs": [],
   "source": [
    "# Plot number of days with precipiation over 0.1 inches\n",
    "key = \"Days Precipitation (2013-2016)\"\n",
    "xda = all_data[key]\n",
    "\n",
    "plot_many(xda,\n",
    "          range(2013, 2017),\n",
    "          fire_bound,\n",
    "          suptitle=key,\n",
    "          cmap=\"summer_r\",\n",
    "          vmin=xda.min(),\n",
    "          vmax=xda.max())"
   ]
  },
  {
   "cell_type": "markdown",
   "id": "dcfa8bbb",
   "metadata": {},
   "source": [
    "#### Maximum vapor pressure deficit\n",
    "\n",
    "The vapor pressure deficit (VPD) measures how much water would have to added to the air before it would be saturated. High values indicate drier conditions."
   ]
  },
  {
   "cell_type": "code",
   "execution_count": null,
   "id": "proprietary-nepal",
   "metadata": {},
   "outputs": [],
   "source": [
    "# Plot maximum VPD\n",
    "key = \"Max VPD (2013-2016)\"\n",
    "xda = all_data[key]\n",
    "\n",
    "plot_many(xda,\n",
    "          range(2013, 2017),\n",
    "          fire_bound,\n",
    "          suptitle=key,\n",
    "          cmap=\"summer\",\n",
    "          vmin=xda.min(),\n",
    "          vmax=xda.max())"
   ]
  },
  {
   "cell_type": "markdown",
   "id": "a89da47c",
   "metadata": {},
   "source": [
    "#### Minimum temperature"
   ]
  },
  {
   "cell_type": "code",
   "execution_count": null,
   "id": "important-conflict",
   "metadata": {},
   "outputs": [],
   "source": [
    "# Plot minimum temperatue\n",
    "key = \"Minimum Temperature (2013-2016)\"\n",
    "xda = all_data[key]\n",
    "\n",
    "plot_many(xda,\n",
    "          range(2013, 2017),\n",
    "          fire_bound,\n",
    "          suptitle=key,\n",
    "          cmap=\"summer_r\",\n",
    "          vmin=xda.min(),\n",
    "          vmax=xda.max())"
   ]
  },
  {
   "cell_type": "markdown",
   "id": "cb8c62a5",
   "metadata": {},
   "source": [
    "#### Heat days over 95 °F"
   ]
  },
  {
   "cell_type": "code",
   "execution_count": null,
   "id": "sacred-destruction",
   "metadata": {},
   "outputs": [],
   "source": [
    "# Plot number of days over 95 F\n",
    "key = \"Heat Days Over 95 (2013-2016)\"\n",
    "xda = all_data[key]\n",
    "\n",
    "plot_many(xda,\n",
    "          range(2013, 2017),\n",
    "          fire_bound,\n",
    "          suptitle=key,\n",
    "          cmap=\"summer\",\n",
    "          vmin=xda.min(),\n",
    "          vmax=xda.max())"
   ]
  },
  {
   "cell_type": "markdown",
   "id": "ab3e5527",
   "metadata": {},
   "source": [
    "#### Cumulative precipitation"
   ]
  },
  {
   "cell_type": "code",
   "execution_count": null,
   "id": "parallel-intelligence",
   "metadata": {},
   "outputs": [],
   "source": [
    "# Plot cumulative precipitation\n",
    "key = \"Cumulative Precipitation (2013-2016)\"\n",
    "xda = all_data[key]\n",
    "\n",
    "plot_many(xda,\n",
    "          range(2013, 2017),\n",
    "          fire_bound,\n",
    "          suptitle=key,\n",
    "          cmap=\"summer_r\",\n",
    "          vmin=xda.min(),\n",
    "          vmax=xda.max())"
   ]
  },
  {
   "cell_type": "markdown",
   "id": "6dfb6220",
   "metadata": {},
   "source": [
    "### Climate data for 2018\n",
    "\n",
    "Precipitation might be an important driver for the Woolsey Fire, so I grabbed climate data from PRISM for 2012-2018. **Do not mix and match with the other PRISM data.** As noted above, the PRISM data in the SMM stack is aggreated to the water year, whereas the data downloaded from PRISM is aggregated to the calendar year."
   ]
  },
  {
   "cell_type": "code",
   "execution_count": null,
   "id": "dcbfa4d8",
   "metadata": {},
   "outputs": [],
   "source": [
    "# Plot 2018 climate data from PRISM\n",
    "keys = [\n",
    "    \"Precipitation (2018)\",\n",
    "    \"Mean Dew Point Temperature (2018)\",\n",
    "    \"Maximum Temperature (2018)\",\n",
    "    \"Mean Temperature (2018)\",\n",
    "    \"Minimum Temperature (2018)\",\n",
    "    \"Maximum VPD (2018)\",\n",
    "    \"Minimum VPD (2018)\"\n",
    "]\n",
    "\n",
    "plot_many(prism_2018,\n",
    "          keys,\n",
    "          fire_bound,\n",
    "          suptitle=\"PRISM Climate Data (2018)\",\n",
    "          cmap=\"summer_r\")"
   ]
  },
  {
   "cell_type": "markdown",
   "id": "371bd6bf",
   "metadata": {},
   "source": [
    "## Previous fires\n",
    "\n",
    "Most of the Woolsey Fire scar burned at some point between 1927 and the Woolsey Fire in 2018. This section summarizes the recent fire history and shows where previous fires may have impacted the severity of the Woolsey Fire."
   ]
  },
  {
   "cell_type": "code",
   "execution_count": null,
   "id": "1af158e9",
   "metadata": {},
   "outputs": [],
   "source": [
    "# Set size and style\n",
    "sns.set(font_scale=1.2, style=\"white\")\n",
    "\n",
    "# Classify last burned by decade\n",
    "years = list(range(1930, 2030, 10))\n",
    "bins = [-np.inf] + years[:-1] + [np.inf]\n",
    "titles = [f\"{y - 10}s\" for y in years]\n",
    "\n",
    "cl_burned = xr.apply_ufunc(np.digitize, all_data[\"Last Burned\"], bins)\n",
    "cl_burned = cl_burned.astype(float).rio.write_nodata(np.nan)\n",
    "cl_burned = cl_burned.rio.clip(fire_bound.geometry, drop=False)\n",
    "\n",
    "# Create a color map with the right number of colors\n",
    "cmap = cm.get_cmap(\"Set3\")\n",
    "cmap = ListedColormap([cmap(i / 12) for i in range(12)][:len(years)])\n",
    "\n",
    "# Create plot comparing recently burned areas to dNBR\n",
    "fig, (ax1, ax2) = plt.subplots(1, 2, figsize=(14, 7))\n",
    "\n",
    "plot_bands(all_data[\"MTBS Classified dNBR\"],\n",
    "           ax=ax1,\n",
    "           cmap=cmap_dnbr,\n",
    "           vmin=1,\n",
    "           vmax=5,\n",
    "           title=(f\"{fire_name} - MTBS classified dNBR - {res} m\\n\"\n",
    "                   \"Dec 15, 2017 - Dec 15, 2018\"),\n",
    "           cbar=False,\n",
    "           scale=False)\n",
    "\n",
    "# Plot classified last burned\n",
    "plot_bands(cl_burned,\n",
    "           ax=ax2,\n",
    "           cmap=cmap,\n",
    "           title=(\"Recent fires in the vicinity of the Woolsey Fire - NIFC\\n\"\n",
    "                  \"1927-2017\"),\n",
    "           cbar=None,\n",
    "           scale=False)\n",
    "\n",
    "# Draw legend\n",
    "ep.draw_legend(ax2.get_images()[0], \n",
    "               titles=titles,\n",
    "               classes=range(len(years)))\n",
    "\n",
    "for ax in (ax1, ax2):\n",
    "    fire_bound.plot(ax=ax, edgecolor=\"black\", facecolor=\"none\", linewidth=1)\n",
    "\n",
    "pass"
   ]
  },
  {
   "cell_type": "markdown",
   "id": "57bc759e",
   "metadata": {},
   "source": [
    "**Description:** MTBS dNBR plot (left) and areas of recent wildfires (right). Two areas dark green areas on the dNBR plot--one in the southeast corner and the other on the southwest edge of the fire scar--are difficult to distinguish based on vegetation, topography, or climate from nearby burned areas but do correspond to areas that have burned since 2000.\n"
   ]
  },
  {
   "cell_type": "markdown",
   "id": "c708c7ee",
   "metadata": {},
   "source": [
    "## Live fuel moisture content\n",
    "\n",
    "Live fuel moisture content (LFMC) is an estimate of how dry/ignitable potential wildfire fuel is. The LFMC estimates plotted here were calculated for 1 Nov 2018 and were downloaded from a [Google Earth Engine app](https://kkraoj.users.earthengine.app/view/live-fuel-moisture) created using the neutral-network model described by Rao et al. (2020). Lower values indicate drier fuel."
   ]
  },
  {
   "cell_type": "code",
   "execution_count": null,
   "id": "b6cbd35b",
   "metadata": {},
   "outputs": [],
   "source": [
    "# Set size and style\n",
    "sns.set(font_scale=1.2, style=\"white\")\n",
    "\n",
    "# Plot LFMC data immediately preceding the Woolsey Fire\n",
    "fig, ax = plt.subplots(1, 1, figsize=(8, 7))\n",
    "plot_bands(\n",
    "    all_data[\"LFMC (2018)\"],\n",
    "    ax=ax,\n",
    "    title=(f\"{fire_name} - Live fuel moisture content - {res} m\\n1 Nov 2018\"),\n",
    "    cmap=\"summer_r\"\n",
    ")\n",
    "fire_bound.plot(ax=ax, edgecolor=\"black\", facecolor=\"none\", linewidth=1)\n",
    "\n",
    "pass"
   ]
  },
  {
   "cell_type": "markdown",
   "id": "2fe5eba7",
   "metadata": {},
   "source": [
    "**Description:** The LFMC plot shows generally dry conditions immediately preceding the Woolsey Fire. The resolution of the downloaded data looks coarser than the nominal resolution of 30 m and the band of relatively healthy and moist vegetation observed in the FAL and spectral index plots is barely discernible here."
   ]
  },
  {
   "cell_type": "markdown",
   "id": "6e54c79b",
   "metadata": {},
   "source": [
    "## Histograms\n",
    "\n",
    "I plotted these histograms to look for parameters where moderate- to high-severity burns could be distinguished from lower-severity burns. Each histogram plots pixel counts for each class on the MTBS classified dNBR dataset for a single parameter. Few pixels were classified as high-severity burns, so the plots use a log scale to make the distribution of each class clear.\n",
    "\n",
    "The histograms mostly highlight that the different fire severity classes are not clearly separable in any one of the datasets I'm looking at here. However, the distribution of high-severity pixels appears to be skewed relative to the distribution of the other classes on the spectral index, FAL, and folded aspect plots. \n",
    "\n",
    "**Note:** These plots are not stacked."
   ]
  },
  {
   "cell_type": "code",
   "execution_count": null,
   "id": "4e4294e6",
   "metadata": {},
   "outputs": [],
   "source": [
    "# Set size and style\n",
    "sns.set(font_scale=1.2, style=\"white\")\n",
    "\n",
    "# Plot histograms\n",
    "keys = [\n",
    "    \"FAL (2013-2016)\",\n",
    "    \"LFMC (2018)\",\n",
    "    \"NDMI (2018)\",\n",
    "    \"NDVI (2018)\",\n",
    "    \"NDWI (2018)\",\n",
    "    \"SAVI (2018)\",\n",
    "    \"Slope\",\n",
    "    \"Folded Aspect\",\n",
    "    \"Elevation\",\n",
    "    \"Last Burned\"\n",
    "]\n",
    "\n",
    "# Set masks for different burn severities\n",
    "any_sev = np.where(all_data[\"MTBS Classified dNBR\"] > 1, True, False)\n",
    "low_sev = np.where(all_data[\"MTBS Classified dNBR\"].values == 2, True, False)\n",
    "mod_sev = np.where(all_data[\"MTBS Classified dNBR\"].values == 3, True, False)\n",
    "high_sev = np.where(all_data[\"MTBS Classified dNBR\"].values == 4, True, False)\n",
    "\n",
    "# Set kwargs for the histogram on each axis\n",
    "kwargs = {\n",
    "    \"log\": True,\n",
    "}\n",
    "\n",
    "# Use the same colors for burn severity used by the MTBS plot\n",
    "colors = [\"#CCCCCC\", \"#7FFFD4\", \"#FFFF00\", \"#FF0000\"]\n",
    "\n",
    "# Plot histograms\n",
    "fig, axes = plt.subplots(len(keys), 1, figsize=(8, 4 * len(keys)))\n",
    "fig.suptitle(\"Histograms for moderate and high severity pixels\")\n",
    "for key, ax in zip(keys, axes):\n",
    "    \n",
    "    x = all_data[key]\n",
    "    if len(x.shape) > 2:\n",
    "        x = x[-1]\n",
    "    \n",
    "    for i, x in enumerate([\n",
    "        np.sort(np.ravel(x.values[any_sev])),\n",
    "        np.sort(np.ravel(x.values[low_sev])),\n",
    "        np.sort(np.ravel(x.values[mod_sev])),\n",
    "        np.sort(np.ravel(x.values[high_sev])),\n",
    "    ]):\n",
    "        if not i:\n",
    "             _, bins, _ = ax.hist(x, bins=20, color=colors[i], **kwargs)\n",
    "        else:\n",
    "            ax.hist(x, bins=bins, color=colors[i], **kwargs)\n",
    "        \n",
    "        ax.set(xlabel=key, ylabel=\"Count\")\n",
    "        ax.legend([\"all\", \"low\", \"mod\", \"high\"])"
   ]
  }
 ],
 "metadata": {
  "kernelspec": {
   "display_name": "Python 3",
   "language": "python",
   "name": "python3"
  },
  "language_info": {
   "codemirror_mode": {
    "name": "ipython",
    "version": 3
   },
   "file_extension": ".py",
   "mimetype": "text/x-python",
   "name": "python",
   "nbconvert_exporter": "python",
   "pygments_lexer": "ipython3",
   "version": "3.9.4"
  },
  "toc": {
   "base_numbering": 1,
   "nav_menu": {},
   "number_sections": true,
   "sideBar": true,
   "skip_h1_title": true,
   "title_cell": "Table of Contents",
   "title_sidebar": "Contents",
   "toc_cell": false,
   "toc_position": {},
   "toc_section_display": true,
   "toc_window_display": true
  }
 },
 "nbformat": 4,
 "nbformat_minor": 5
}
