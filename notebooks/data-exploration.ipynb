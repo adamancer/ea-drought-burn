{
 "cells": [
  {
   "cell_type": "markdown",
   "id": "split-mistress",
   "metadata": {},
   "source": [
    "# Woolsey Fire Data Exploration\n",
    "\n",
    "This notebook reviews satellite and model data related to the 2018 Woolsey Fire, including vegetation, climate, and topographic data."
   ]
  },
  {
   "cell_type": "code",
   "execution_count": null,
   "id": "supreme-cassette",
   "metadata": {},
   "outputs": [],
   "source": [
    "import os\n",
    "from pathlib import Path\n",
    "import warnings\n",
    "\n",
    "import earthpy as et\n",
    "import earthpy.plot as ep\n",
    "import geopandas as gpd\n",
    "import matplotlib.cm as cm\n",
    "from matplotlib.colors import ListedColormap\n",
    "import matplotlib.pyplot as plt\n",
    "import numpy as np\n",
    "import pandas as pd\n",
    "from rasterio.enums import Resampling\n",
    "import rioxarray as rxr\n",
    "import xarray as xr\n",
    "\n",
    "from ea_drought_burn.config import CRS\n",
    "from ea_drought_burn.utils import (\n",
    "    copy_xr_metadata,\n",
    "    load_nifc_fires,\n",
    "    open_raster,\n",
    "    plot_bands,\n",
    "    plot_rgb,\n",
    "    reproject_match\n",
    ")\n",
    "from ea_drought_burn.notebooks import run_notebook\n",
    "\n",
    "\n",
    "\n",
    "\n",
    "# Set default plotting parameters\n",
    "plt.rc(\"font\", size=18)\n",
    "plt.rc(\"axes\", labelsize=18)\n",
    "plt.rc(\"xtick\", labelsize=18)\n",
    "plt.rc(\"ytick\", labelsize=18)\n",
    "plt.rc(\"legend\", fontsize=18)\n",
    "plt.rc(\"figure\", titlesize=24)\n",
    "plt.rc(\"figure.constrained_layout\", use=True, h_pad=12/72, w_pad=12/72)\n",
    "\n",
    "# Set working directory to the earthpy data directory\n",
    "os.chdir(os.path.join(et.io.HOME, \"earth-analytics\", \"data\", \"woolsey-fire\"))"
   ]
  },
  {
   "cell_type": "code",
   "execution_count": null,
   "id": "arctic-hammer",
   "metadata": {},
   "outputs": [],
   "source": [
    "def plot_four(\n",
    "    bands,\n",
    "    boundary,\n",
    "    mask=\"{}\",\n",
    "    width=16,\n",
    "    suptitle=None,\n",
    "    years=(2013, 2014, 2015, 2016),\n",
    "    **kwargs\n",
    "):\n",
    "    \"\"\"Plots bands in two columns\"\"\"\n",
    "    \n",
    "    # Scale fonts\n",
    "    font_size = plt.rcParamsDefault[\"font.size\"]\n",
    "    plt.rc(\"font\", size=font_size * width // 16)\n",
    "    \n",
    "    # Scale outline\n",
    "    bound_kwargs = {\"edgecolor\": \"black\", \"facecolor\": \"none\", \"linewidth\": 2}\n",
    "    bound_kwargs[\"linewidth\"] *= width // 16\n",
    "    \n",
    "    titles = [mask.format(year) for year in years]\n",
    "    \n",
    "    nrows = int(np.ceil(len(bands) / 2))\n",
    "    height = (width * 0.7) / 2 * nrows\n",
    "\n",
    "    fig, axes = plt.subplots(nrows, 2, figsize=(width, height))\n",
    "    \n",
    "    if suptitle:\n",
    "        fig.suptitle(suptitle)\n",
    "    \n",
    "    axes_flat = []\n",
    "    for row in axes:\n",
    "        try:\n",
    "            axes_flat.extend(row)\n",
    "        except TypeError:\n",
    "            axes_flat.append(row)\n",
    "          \n",
    "    # Delete last axis if not an even number of bands\n",
    "    if len(bands) % 2:\n",
    "        axes_flat[-1].remove()\n",
    "\n",
    "    for ax, title, band in zip(axes_flat, titles, bands):\n",
    "        plot_bands(band, ax=ax, title=title, **kwargs)\n",
    "        boundary.plot(ax=ax, **bound_kwargs)\n",
    "    \n",
    "    # Reset font size to default\n",
    "    plt.rcParams.update(plt.rcParamsDefault)"
   ]
  },
  {
   "cell_type": "markdown",
   "id": "afa6ac36",
   "metadata": {},
   "source": [
    "## Restore and prepare data\n",
    "\n",
    "To ensure consitency across notebooks and avoid repeating code, all data is loaded using **load_data.ipynb** and restored as needed in individual notebooks. Please see that notebook for details about the sources of data used here."
   ]
  },
  {
   "cell_type": "code",
   "execution_count": null,
   "id": "06bfc250",
   "metadata": {},
   "outputs": [],
   "source": [
    "# Check for stored ready variable and run load-data.ipynb if not found\n",
    "%store -r woolsey_data_ready\n",
    "try:\n",
    "    woolsey_data_ready\n",
    "except NameError:\n",
    "    print(\"Running load-data.ipynb...\")\n",
    "    run_notebook(\"load-data.ipynb\")\n",
    "\n",
    "# Retore variables using storemagic. Each variable is restored explicitly to\n",
    "# avoid confusion about where variable names are coming from.\n",
    "%store -r all_data\n",
    "%store -r cmap_dnbr\n",
    "%store -r labels_vegetation\n",
    "%store -r labels_dnbr\n",
    "%store -r cmap_vegetation\n",
    "%store -r prism_grid\n",
    "%store -r reproj_to\n",
    "%store -r woolsey_fire\n",
    "\n",
    "# Set crop boundary\n",
    "crop_bound = woolsey_fire.envelope"
   ]
  },
  {
   "cell_type": "markdown",
   "id": "a5492b9e",
   "metadata": {},
   "source": [
    "## USGS topographic data"
   ]
  },
  {
   "cell_type": "code",
   "execution_count": null,
   "id": "0dcda240",
   "metadata": {},
   "outputs": [],
   "source": [
    "fig, ((ax1, ax2), (ax3, ax4)) = plt.subplots(2, 2, figsize=(20, 16))\n",
    "fig.suptitle(\"Woolsey Fire - Topography - USGS - 10 m\")\n",
    "plot_bands(all_data[\"Elevation\"], ax=ax1, title=\"Elevation\")\n",
    "plot_bands(all_data[\"Slope\"], ax=ax2, title=\"Slope\")\n",
    "plot_bands(all_data[\"Aspect\"], ax=ax3, title=\"Aspect\")\n",
    "plot_bands(all_data[\"Folded Aspect\"], ax=ax4, title=\"Folded aspect\")\n",
    "\n",
    "pass"
   ]
  },
  {
   "cell_type": "markdown",
   "id": "1f1d901c",
   "metadata": {},
   "source": [
    "**Description:** Topographic data for the Woolsey Fire scar, including elevation, slope, aspect, and folded aspect. Folded aspect. calculated as *|180 - |aspect - 225||*, converts aspect into a linear parameter where hotness/dryness increases moving from 0Â° (for a northeast-facing slope) to 180Â° (for a southwest-facing slope) (McCune and Keon, 2002)."
   ]
  },
  {
   "cell_type": "markdown",
   "id": "371c2abe",
   "metadata": {},
   "source": [
    "## Sentinel-2 pre- and post-fire images\n",
    "\n",
    "Pre- and post-fire Sentinel-2 imagery is much better than the available Landsat images, which are obscured by smoke or clouds through early 2019."
   ]
  },
  {
   "cell_type": "code",
   "execution_count": null,
   "id": "fcf86c5b",
   "metadata": {},
   "outputs": [],
   "source": [
    "# Plot the pre- and post-fire images\n",
    "fig, (ax1, ax2) = plt.subplots(1, 2, figsize=(20, 8))\n",
    "fig.suptitle(\"Woolsey Fire - Sentinel-2 imagery - 30 m\")\n",
    "\n",
    "# Plot pre-fire image\n",
    "plot_rgb(all_data[\"Sentinel-2 Prefire\"], \n",
    "         ax=ax1,\n",
    "         rgb=[3, 2, 1],\n",
    "         stretch=True, title=\"2018-10-31\")\n",
    "\n",
    "# Plot post-fire image\n",
    "plot_rgb(all_data[\"Sentinel-2 Postfire\"],\n",
    "         ax=ax2,\n",
    "         rgb=[3, 2, 1],\n",
    "         stretch=True,\n",
    "         title=\"2018-12-15\")\n",
    "\n",
    "# Plot Woolsey Fire boundary\n",
    "for ax in (ax1, ax2, ax3, ax4):\n",
    "    woolsey_fire.plot(ax=ax, edgecolor=\"white\", facecolor=\"none\", linewidth=2)"
   ]
  },
  {
   "cell_type": "code",
   "execution_count": null,
   "id": "71c24e39",
   "metadata": {},
   "outputs": [],
   "source": [
    "# Plot pre-fire Sentinel-2 spectral indides\n",
    "fig, ((ax1, ax2), (ax3, ax4)) = plt.subplots(2, 2, figsize=(20, 16))\n",
    "fig.suptitle(\"Woolsey Fire - Sentinel-2 spectral indices - 30 m\\n\"\n",
    "             \"31 Oct 2018 (pre-fire)\")\n",
    "\n",
    "plot_bands(all_data[\"NDVI\"],\n",
    "           ax=ax1,\n",
    "           cmap=\"RdYlGn\",\n",
    "           vmin=-1,\n",
    "           vmax=1,\n",
    "           title=\"NDVI\")\n",
    "\n",
    "plot_bands(all_data[\"NDWI\"],\n",
    "           ax=ax2,\n",
    "           cmap=\"RdYlGn\",\n",
    "           vmin=-1,\n",
    "           vmax=1,\n",
    "           title=\"NDWI\")\n",
    "\n",
    "plot_bands(all_data[\"NDMI\"],\n",
    "           ax=ax3,\n",
    "           cmap=\"RdYlGn\",\n",
    "           vmin=-1,\n",
    "           vmax=1,\n",
    "           title=\"NDMI\")\n",
    "\n",
    "plot_bands(all_data[\"SAVI\"],\n",
    "           ax=ax4,\n",
    "           cmap=\"RdYlGn\",\n",
    "           vmin=-1,\n",
    "           vmax=1,\n",
    "           title=\"SAVI\")\n",
    "\n",
    "# Plot Woolsey Fire boundary\n",
    "for ax in (ax1, ax2, ax3, ax4):\n",
    "    woolsey_fire.plot(ax=ax, edgecolor=\"white\", facecolor=\"none\", linewidth=2)"
   ]
  },
  {
   "cell_type": "markdown",
   "id": "c59c8a2b",
   "metadata": {},
   "source": [
    "**Description:** NDMI and NDWI show a pattern broadly similar to the one seen in the FAL data."
   ]
  },
  {
   "cell_type": "code",
   "execution_count": null,
   "id": "50beeacd",
   "metadata": {},
   "outputs": [],
   "source": [
    "# Calculate dNBR from Sentinel-2 data\n",
    "nir = all_data[\"Sentinel-2 Prefire\"][8]\n",
    "swir2 = all_data[\"Sentinel-2 Prefire\"][12]\n",
    "pre_nbr = (nir - swir2) / (nir + swir2)\n",
    "\n",
    "nir = all_data[\"Sentinel-2 Postfire\"][7]\n",
    "swir2 = all_data[\"Sentinel-2 Postfire\"][11]\n",
    "post_nbr = (nir - swir2) / (nir + swir2)\n",
    "\n",
    "s2_dnbr = pre_nbr - post_nbr\n",
    "\n",
    "# Calculate classified dNBR from Sentinel-2 data\n",
    "bins = [-np.inf, -.1, .1, .27, .66, np.inf]\n",
    "s2_cl_dnbr = xr.apply_ufunc(np.digitize, s2_dnbr, bins)\n",
    "\n",
    "s2_cl_dnbr = s2_cl_dnbr.astype(np.float64)\n",
    "s2_cl_dnbr = s2_cl_dnbr.rio.write_nodata(np.nan)\n",
    "s2_cl_dnbr = s2_cl_dnbr.rio.clip(woolsey_fire.geometry)\n",
    "\n",
    "# Reorder categories to match MTBS data\n",
    "s2_cl_dnbr -= 1\n",
    "s2_cl_dnbr = s2_cl_dnbr.where((s2_cl_dnbr >= 0) | ~np.isfinite(s2_cl_dnbr), 4)"
   ]
  },
  {
   "cell_type": "code",
   "execution_count": null,
   "id": "185373d5",
   "metadata": {},
   "outputs": [],
   "source": [
    "# Plot Sentinel-2 dNBR and classified dNBR\n",
    "fig, (ax1, ax2) = plt.subplots(1, 2, figsize=(20, 8))\n",
    "\n",
    "plot_bands(s2_dnbr,\n",
    "           ax=ax1,\n",
    "           cmap=\"RdYlGn_r\",\n",
    "           vmin=all_data[\"dNBR\"].min(),  # use MTBS min so plots are comparable\n",
    "           vmax=all_data[\"dNBR\"].max(),  # use MTBS max so plots are comparable\n",
    "           title=(\"Woolsey Fire - Sentinel dNBR - 30 m\\n\"\n",
    "                  \"31 Oct 2018 - 15 Dec 2018\"))\n",
    "\n",
    "plot_bands(s2_cl_dnbr,\n",
    "           ax=ax2,\n",
    "           cmap=cmap_dnbr,\n",
    "           vmin=1,\n",
    "           vmax=5,\n",
    "           title=(\"Woolsey Fire - Sentinel-2 classified dNBR - 30 m\\n\"\n",
    "                  \"31 Oct 2018 - 15 Dec 2018\"),\n",
    "           cbar=False,\n",
    "           scale=False)\n",
    "\n",
    "# Draw legend\n",
    "ep.draw_legend(im_ax=ax2.get_images()[0],\n",
    "               classes=range(5),\n",
    "               titles=labels_dnbr,\n",
    "               bbox=(0.01, 0.99))\n",
    "\n",
    "# Plot Woolsey Fire boundary\n",
    "for ax in (ax1, ax2):\n",
    "    woolsey_fire.plot(ax=ax, edgecolor=\"black\", facecolor=\"none\", linewidth=2)"
   ]
  },
  {
   "cell_type": "markdown",
   "id": "1445b35c",
   "metadata": {},
   "source": [
    "**Description:** The Sentinel-2 burn-severity plots show a similar pattern to the MTBS plots below but have generally higher burn severities, including a larger number of high-severity pixels and a smaller number of unburned pixels."
   ]
  },
  {
   "cell_type": "markdown",
   "id": "41a28d66",
   "metadata": {},
   "source": [
    "## MTBS burn severity plots\n",
    "\n",
    "MTBS provides normalized, field-validated dNBR plots that are more reliable than those that, like the one I calculated above, are made solely from satellite images."
   ]
  },
  {
   "cell_type": "code",
   "execution_count": null,
   "id": "78a6e9a1",
   "metadata": {},
   "outputs": [],
   "source": [
    "# Plot MTBS dNBR and classified dNBR\n",
    "fig, (ax1, ax2) = plt.subplots(1, 2, figsize=(20, 8))\n",
    "\n",
    "plot_bands(all_data[\"dNBR\"],\n",
    "           ax=ax1,\n",
    "           cmap=\"RdYlGn_r\",\n",
    "           title=(\"Woolsey Fire - MTBS dNBR - 30 m\\n\"\n",
    "                  \"Dec 15, 2017 - Dec 15, 2018\"))\n",
    "\n",
    "plot_bands(all_data[\"Classified dNBR\"],\n",
    "           ax=ax2,\n",
    "           cmap=cmap_dnbr,\n",
    "           vmin=1,\n",
    "           vmax=5,\n",
    "           title=(\"Woolsey Fire - MTBS classified dNBR - 30 m\\n\"\n",
    "                  \"Dec 15, 2017 - Dec 15, 2018\"),\n",
    "           cbar=False,\n",
    "           scale=False)\n",
    "\n",
    "# Draw legend\n",
    "ep.draw_legend(im_ax=ax2.get_images()[0],\n",
    "               classes=range(5),\n",
    "               titles=labels_dnbr,\n",
    "               bbox=(0.01, 0.99))\n",
    "\n",
    "# Plot Woolsey Fire boundary\n",
    "for ax in (ax1, ax2):\n",
    "    woolsey_fire.plot(ax=ax, edgecolor=\"black\", facecolor=\"none\", linewidth=2)"
   ]
  },
  {
   "cell_type": "markdown",
   "id": "boring-nickname",
   "metadata": {},
   "source": [
    "## Woolsey Fire Stack\n",
    "\n",
    "The original data included a second stack, WoolseyFireDataStack2, that included some Landsat data and BARC burn severity data, as well as the FAL data included in the SMM stack. All of that content is replicated elsewhere, and this file is not included in the final version of the data for this project.\n",
    "\n",
    "+ **Landsat:** The WoolseyFireDataStack2 file contains two sets of Landsat files,\n",
    "  one from 2017-10-24 and one from 2018-10-18. Both pre-date the Woolsey fire and\n",
    "  include only bands 4 (red) and 7 (SWIR2). None of the spectral indices I'm aware\n",
    "  of use those two bands.\n",
    "+ **BARC:** BARC stands for Burned Area Reflectance Classification and is a \n",
    "  burn-severity index similar to dNBR. We decided to use the MTBS dNBR data\n",
    "  instead."
   ]
  },
  {
   "cell_type": "markdown",
   "id": "parallel-brake",
   "metadata": {},
   "source": [
    "## Santa Monica Mountain Stack\n",
    "\n",
    "The Santa Monica Mountain (SMM) stack includes data about the vegetation and climate of the Santa Monica Mountain region in 2013-2016."
   ]
  },
  {
   "cell_type": "code",
   "execution_count": null,
   "id": "needed-norway",
   "metadata": {},
   "outputs": [],
   "source": [
    "# Plot vegetation community\n",
    "\n",
    "# Figure is large, so increase font size\n",
    "plt.rc(\"font\", size=24)\n",
    "\n",
    "# Make plot\n",
    "fig, ax = plt.subplots(figsize=(20, 20))\n",
    "plot_bands(all_data[\"Community\"],\n",
    "           ax=ax,\n",
    "           title=\"SMM vegetation community map\",\n",
    "           cmap=cmap_vegetation,\n",
    "           cbar=False)\n",
    "woolsey_fire.plot(ax=ax, edgecolor=\"black\", facecolor=\"none\", linewidth=4)\n",
    "\n",
    "# Draw legend. This function forces the font size to 13, so the plot canvas\n",
    "# can only be so big before the legend becomes illegible.\n",
    "legend = ep.draw_legend(ax.get_images()[0], \n",
    "               titles=labels_vegetation,\n",
    "               classes=range(len(labels_vegetation)))\n",
    "\n",
    "# Restore original font size\n",
    "plt.rc(\"font\", size=18)"
   ]
  },
  {
   "cell_type": "markdown",
   "id": "c0457be8",
   "metadata": {},
   "source": [
    "**Description:** Many of the salients into and low-severity burn areas within the fire scar are classified as substrate. Moderate- and high-severity burns appear mostly in the chapparal-dominated southern half of the scar."
   ]
  },
  {
   "cell_type": "markdown",
   "id": "6ec3cf20",
   "metadata": {},
   "source": [
    "### Fraction alive\n",
    "\n",
    "The fraction-alive metric (FAL or RFAL) measures the ratio of healthy vegetation (green) to total vegetation (green plus brown). Living vegetation on the 2016 FAL plot has a similar distribution to the areas of highest burn severity during the Woolsey Fire, which was one impetus for this project. FAL data is only available through 2016, which leaves a two-year gap between the last snapshot of vegetation health and the Woolsey Fire, but pre-fire spectral indices like NDWI show a similar pattern."
   ]
  },
  {
   "cell_type": "code",
   "execution_count": null,
   "id": "cardiac-shoot",
   "metadata": {},
   "outputs": [],
   "source": [
    "# Plot fraction alive. The FAL plots are all huge because smaller plots have\n",
    "# large white patches that look to me like a problem with interpolating NaNs.\n",
    "plot_four(all_data[\"FAL\"],\n",
    "          woolsey_fire,\n",
    "          width=64,\n",
    "          suptitle=\"Fraction Alive (FAL)\",\n",
    "          cmap=\"PiYG\",\n",
    "          vmin=0,\n",
    "          vmax=1)"
   ]
  },
  {
   "cell_type": "markdown",
   "id": "bef15f76",
   "metadata": {},
   "source": [
    "#### dFAL\n",
    "\n",
    "The year-on-year difference in fraction alive was calculated as dFAL. I calculated this index by subtracting the FAL of the previous year from the current year, so a positive dFAL means that the fraction alive has increased and a negative dFAL means that fraction alive has decreased."
   ]
  },
  {
   "cell_type": "code",
   "execution_count": null,
   "id": "2a6b3cf2",
   "metadata": {},
   "outputs": [],
   "source": [
    "# Plot year-on-year difference in fraction alive\n",
    "plot_four(all_data[\"dFAL\"],\n",
    "          woolsey_fire,\n",
    "          width=64,\n",
    "          suptitle=\"Change in Fraction Alive (dFAL)\",\n",
    "          years=(\"2013-2014\", \"2014-2015\", \"2015-2016\"),\n",
    "          cmap=\"PiYG\",\n",
    "          vmin=-1,\n",
    "          vmax=1)"
   ]
  },
  {
   "cell_type": "markdown",
   "id": "5fe7e1bf",
   "metadata": {},
   "source": [
    "#### Dead pixels and the dieback threshold\n",
    "\n",
    "Foster et al. (2017) use a threshold of 0.5431 to distinguish dead pixels from\n",
    "live pixels based on a comparison of FAL and a field survey of oaks. The\n",
    "correlation between the aerial and field surveys is poor and only looked at one\n",
    "of the six vegetation communities in the study area, so that threshold is\n",
    "poorly constrained. I've used a threshold of 0.5 below to identify dead pixels."
   ]
  },
  {
   "cell_type": "code",
   "execution_count": null,
   "id": "94400f64",
   "metadata": {},
   "outputs": [],
   "source": [
    "# Plot dead pixels\n",
    "plot_four(all_data[\"Dead\"],\n",
    "          woolsey_fire,\n",
    "          width=64,\n",
    "          suptitle=\"Dead Pixels (FAL < 0.5)\",\n",
    "          cmap=\"Greys\",\n",
    "          cbar=False)"
   ]
  },
  {
   "cell_type": "markdown",
   "id": "34e843c5",
   "metadata": {},
   "source": [
    "#### Years dead\n",
    "\n",
    "Using the same threshold as above, the years-dead plot tries to quantify how long pixels have been dead for (that is, how long FAL has been less than 0.5). Years are given relative to 2018, although FAL data for 2017 and 2018 is not available. This calculation has some semantic problems at the other edge, too: Anything classified as dead in 2013 was assigned a value of 4, but those pixels could have been that way for more than four years."
   ]
  },
  {
   "cell_type": "code",
   "execution_count": null,
   "id": "3e8b21cf",
   "metadata": {},
   "outputs": [],
   "source": [
    "# Figure is large, so increase font size\n",
    "plt.rc(\"font\", size=24)\n",
    "\n",
    "cmap = ListedColormap([\"green\", \"lightgreen\", \"yellow\", \"tan\", \"brown\", \"red\"])\n",
    "\n",
    "fig, ax = plt.subplots(figsize=(20, 20))\n",
    "plot_bands(all_data[\"Years Dead\"],\n",
    "           ax=ax,\n",
    "           title=\"Years Dead (FAL < 0.5)\",\n",
    "           cmap=cmap,\n",
    "           cbar=None)\n",
    "\n",
    "woolsey_fire.plot(ax=ax, edgecolor=\"black\", facecolor=\"none\", linewidth=4)\n",
    "\n",
    "# Draw legend. This function forces the font size to 13, so the plot canvas\n",
    "# can only be so big before the legend becomes illegible.\n",
    "ep.draw_legend(ax.get_images()[0], \n",
    "               titles=[str(i) for i in range(6)],\n",
    "               classes=range(6))\n",
    "\n",
    "# Restore original font size\n",
    "plt.rc(\"font\", size=18)"
   ]
  },
  {
   "cell_type": "markdown",
   "id": "a8567803",
   "metadata": {},
   "source": [
    "#### Area lost"
   ]
  },
  {
   "cell_type": "code",
   "execution_count": null,
   "id": "8111ccfb",
   "metadata": {},
   "outputs": [],
   "source": [
    "# Calculate area lost per vegetation type\n",
    "# FIXME: Check this, numbers differ from previous work\n",
    "\n",
    "print(f\"Total area:   {2089 * 1681 * 15.6 **2 / 1e6:.0f} km2\")\n",
    "print(\"--\")\n",
    "\n",
    "comm = all_data[\"Community\"]\n",
    "dfal_13_16 = all_data[\"FAL\"][3] - all_data[\"FAL\"][0]\n",
    "for i in range(0, 7):\n",
    "    subset = xr.where(comm == i, True, False).values\n",
    "    \n",
    "    # Limit to vegetation (i.e., pixels with FAL calculated)\n",
    "    comm_13_16 = dfal_13_16.where(subset)\n",
    "    \n",
    "    dfal = comm_13_16.mean().item()\n",
    "    pixels = xr.where(comm_13_16, 1, 0).sum().item()\n",
    "    pixel_km2 = comm_13_16.rio.resolution()[0] ** 2 * 1e-6\n",
    "    \n",
    "    area_km2 = dfal * pixels * pixel_km2\n",
    "    \n",
    "    print(labels_vegetation[i])\n",
    "    print(f\"Pixels:          {pixels}\")\n",
    "    print(f\"Area (km2):      {pixels * pixel_km2:.1f} km2\")\n",
    "    print(f\"Area (acres):    {pixels * pixel_km2 / 0.004:.1f} acres\")\n",
    "    print(f\"Dieback %:       {dfal:.3f}\")\n",
    "    print(f\"Dieback (km2):   {area_km2:.1f} km2\")\n",
    "    print(f\"Dieback (acres): {area_km2 / 0.004:.1f} acres\")\n",
    "    print(\"--\")"
   ]
  },
  {
   "cell_type": "markdown",
   "id": "2343998c",
   "metadata": {},
   "source": [
    "### Climate data\n",
    "\n",
    "The SMM stack includes climate data from the PRISM project. In the plots below, green can generally be understood as being wetter/cooler and yellow as hotter/drier. Colors in each set of plots are scaled to the same range.\n",
    "\n",
    "The highest, driest conditions in the area burned during the Woolsey Fire generally occurred in the northeastern part of the scar."
   ]
  },
  {
   "cell_type": "markdown",
   "id": "69ee9865",
   "metadata": {},
   "source": [
    "#### Days with precipitation over 0.1 inchdes"
   ]
  },
  {
   "cell_type": "code",
   "execution_count": null,
   "id": "progressive-council",
   "metadata": {},
   "outputs": [],
   "source": [
    "# Plot number of days with precipiation over 0.1 inches\n",
    "key = \"Days Precipitation\"\n",
    "xda = all_data[key]\n",
    "\n",
    "plot_four(xda,\n",
    "          woolsey_fire,\n",
    "          suptitle=key,\n",
    "          cmap=\"summer_r\",\n",
    "          vmin=xda.min(),\n",
    "          vmax=xda.max())"
   ]
  },
  {
   "cell_type": "markdown",
   "id": "dcfa8bbb",
   "metadata": {},
   "source": [
    "#### Maximum vapor pressure deficit\n",
    "\n",
    "The vapor pressure deficit (VPD) measures how much water would have to added to the air before it would be saturated. High values indicate drier conditions."
   ]
  },
  {
   "cell_type": "code",
   "execution_count": null,
   "id": "proprietary-nepal",
   "metadata": {},
   "outputs": [],
   "source": [
    "# Plot maximum VPD\n",
    "key = \"Max VPD\"\n",
    "xda = all_data[key]\n",
    "\n",
    "plot_four(xda,\n",
    "          woolsey_fire,\n",
    "          suptitle=key,\n",
    "          cmap=\"summer\",\n",
    "          vmin=xda.min(),\n",
    "          vmax=xda.max())"
   ]
  },
  {
   "cell_type": "markdown",
   "id": "a89da47c",
   "metadata": {},
   "source": [
    "#### Minimum temperature"
   ]
  },
  {
   "cell_type": "code",
   "execution_count": null,
   "id": "important-conflict",
   "metadata": {},
   "outputs": [],
   "source": [
    "# Plot minimum temperatue\n",
    "key = \"Minimum Temperature\"\n",
    "xda = all_data[key]\n",
    "\n",
    "plot_four(xda,\n",
    "          woolsey_fire,\n",
    "          suptitle=key,\n",
    "          cmap=\"summer_r\",\n",
    "          vmin=xda.min(),\n",
    "          vmax=xda.max())"
   ]
  },
  {
   "cell_type": "markdown",
   "id": "cb8c62a5",
   "metadata": {},
   "source": [
    "#### Heat days over 95 Â°F"
   ]
  },
  {
   "cell_type": "code",
   "execution_count": null,
   "id": "sacred-destruction",
   "metadata": {},
   "outputs": [],
   "source": [
    "# Plot number of days over 95 F\n",
    "key = \"Heat Days Over 95\"\n",
    "xda = all_data[key]\n",
    "\n",
    "plot_four(xda,\n",
    "          woolsey_fire,\n",
    "          suptitle=key,\n",
    "          cmap=\"summer\",\n",
    "          vmin=xda.min(),\n",
    "          vmax=xda.max())"
   ]
  },
  {
   "cell_type": "markdown",
   "id": "ab3e5527",
   "metadata": {},
   "source": [
    "#### Cumulative precipitation"
   ]
  },
  {
   "cell_type": "code",
   "execution_count": null,
   "id": "parallel-intelligence",
   "metadata": {},
   "outputs": [],
   "source": [
    "# Plot cumulative precipitation\n",
    "key = \"Cumulative Precipitation\"\n",
    "xda = all_data[key]\n",
    "\n",
    "plot_four(xda,\n",
    "          woolsey_fire,\n",
    "          suptitle=key,\n",
    "          cmap=\"summer_r\",\n",
    "          vmin=xda.min(),\n",
    "          vmax=xda.max())"
   ]
  },
  {
   "cell_type": "markdown",
   "id": "371bd6bf",
   "metadata": {},
   "source": [
    "## Previous fires\n",
    "\n",
    "The area around the Woolsey Fire suffered ~24 wildfires between 2000 and 2018. Two of those fires overlap with unburned patches with the fire scar. This section summarizes the recent fire history and shows where that history may have impacted the severity of the Woolsey Fire."
   ]
  },
  {
   "cell_type": "code",
   "execution_count": null,
   "id": "1af158e9",
   "metadata": {},
   "outputs": [],
   "source": [
    "# Create plot comparing recently burned areas to dNBR\n",
    "fig, (ax1, ax2) = plt.subplots(1, 2, figsize=(16, 8))\n",
    "\n",
    "plot_bands(all_data[\"Classified dNBR\"],\n",
    "           ax=ax1,\n",
    "           cmap=cmap_dnbr,\n",
    "           vmin=1,\n",
    "           vmax=5,\n",
    "           title=(\"Woolsey Fire - MTBS classified dNBR - 30 m\\n\"\n",
    "                  \"Dec 15, 2017 - Dec 15, 2018\"),\n",
    "           cbar=False,\n",
    "           scale=False)\n",
    "\n",
    "plot_bands(all_data[\"Burned (2000-2018)\"],\n",
    "           ax=ax2,\n",
    "           title=(\"Recent fires in the vicinity of the Woolsey Fire - NIFC\\n\"\n",
    "                  \"2000-2018\"))\n",
    "\n",
    "woolsey_fire.plot(ax=ax1, edgecolor=\"black\", facecolor=\"none\", linewidth=2)\n",
    "woolsey_fire.plot(ax=ax2, edgecolor=\"white\", facecolor=\"none\", linewidth=2)\n",
    "\n",
    "pass"
   ]
  },
  {
   "cell_type": "markdown",
   "id": "57bc759e",
   "metadata": {},
   "source": [
    "**Description:** MTBS dNBR plot (left) and areas of recent wildfires (right). Two areas dark green areas on the dNBR plot--one in the southeast corner and the other on the southwest edge of the fire scar--are difficult to distinguish based on vegetation, topography, or climate from nearby burned areas but do correspond to areas that have burned since 2000.\n"
   ]
  },
  {
   "cell_type": "markdown",
   "id": "c708c7ee",
   "metadata": {},
   "source": [
    "## Live fuel moisture content\n",
    "\n",
    "Live fuel moisture content (LFMC) is a measure of how dry/ignitable potential wildfire fuel is. The LFMC estimates plotted here were calculated for 1 Nov 2018 and were downloaded from a [Google Earth Engine app](https://kkraoj.users.earthengine.app/view/live-fuel-moisture) created using the neutral-network model described by Rao et al. (2020)."
   ]
  },
  {
   "cell_type": "code",
   "execution_count": null,
   "id": "b6cbd35b",
   "metadata": {},
   "outputs": [],
   "source": [
    "# Plot LFMC data immediately preceding the Woolsey Fire\n",
    "fig, ax = plt.subplots(1, 1, figsize=(8, 6))\n",
    "plot_bands(\n",
    "    all_data[\"LFMC\"],\n",
    "    ax=ax,\n",
    "    title=(\"Woolsey Fire - Live fuel moisture content - 30 m\\n\"\n",
    "           \"1 Nov 2018\"),\n",
    "    cmap=\"summer_r\"\n",
    ")\n",
    "woolsey_fire.plot(ax=ax, edgecolor=\"black\", facecolor=\"none\", linewidth=2)\n",
    "\n",
    "pass"
   ]
  },
  {
   "cell_type": "markdown",
   "id": "2fe5eba7",
   "metadata": {},
   "source": [
    "**Description:** The LFMC plot shows generally dry conditions immediately preceding the Woolsey Fire. The resolution of the downloaded dat is coarse and the band of relatively healthy and moist vegetation observed in the FAL and spectral index plots is difficult to discern here."
   ]
  },
  {
   "cell_type": "markdown",
   "id": "6e54c79b",
   "metadata": {},
   "source": [
    "## Histograms\n",
    "\n",
    "I plotted these histograms to look for parameters where moderate- to high-severity burns did not occur that could be excluded from models. Each histogram plots pixel counts for each class on the MTBS classified dNBR dataset for a single parameter. Few pixels were classified as high-severity burns, so the plots use a log scale."
   ]
  },
  {
   "cell_type": "code",
   "execution_count": null,
   "id": "4e4294e6",
   "metadata": {},
   "outputs": [],
   "source": [
    "plt.rc(\"figure.constrained_layout\", use=True, h_pad=18/72)\n",
    "\n",
    "# Plot histograms\n",
    "keys = [\n",
    "    \"FAL\",\n",
    "    \"LFMC\",\n",
    "    \"NDMI\",\n",
    "    \"NDVI\",\n",
    "    \"NDWI\",\n",
    "    \"SAVI\",\n",
    "    \"Slope\",\n",
    "    \"Folded Aspect\",\n",
    "    \"Elevation\",\n",
    "]\n",
    "\n",
    "# Set masks for different burn severities\n",
    "any_sev = np.where(all_data[\"Classified dNBR\"] > 1, True, False)\n",
    "low_sev = np.where(all_data[\"Classified dNBR\"].values == 2, True, False)\n",
    "mod_sev = np.where(all_data[\"Classified dNBR\"].values == 3, True, False)\n",
    "high_sev = np.where(all_data[\"Classified dNBR\"].values == 4, True, False)\n",
    "\n",
    "# Set kwargs for the histogram on each axis\n",
    "kwargs = {\n",
    "    \"log\": True,\n",
    "}\n",
    "\n",
    "# Use the same colors for burn severity used by the MTBS plot\n",
    "colors = [\"#CCCCCC\", \"#7FFFD4\", \"#FFFF00\", \"#FF0000\"]\n",
    "\n",
    "# Plot histograms\n",
    "fig, axes = plt.subplots(len(keys), 1, figsize=(8, 4 * len(keys)))\n",
    "fig.suptitle(\"Histograms for moderate and high severity pixels\")\n",
    "for key, ax in zip(keys, axes):\n",
    "    \n",
    "    x = all_data[key]\n",
    "    if len(x.shape) > 2:\n",
    "        x = x[-1]\n",
    "    \n",
    "    for i, x in enumerate([\n",
    "        np.sort(np.ravel(x.values[any_sev])),\n",
    "        np.sort(np.ravel(x.values[low_sev])),\n",
    "        np.sort(np.ravel(x.values[mod_sev])),\n",
    "        np.sort(np.ravel(x.values[high_sev])),\n",
    "    ]):\n",
    "        if not i:\n",
    "             _, bins, _ = ax.hist(x, bins=30, color=colors[i], **kwargs)\n",
    "        else:\n",
    "            ax.hist(x, bins=bins, color=colors[i], **kwargs)\n",
    "        \n",
    "        ax.set(xlabel=key, ylabel=\"Count\")\n",
    "        ax.legend([\"all\", \"low\", \"mod\", \"high\"])"
   ]
  }
 ],
 "metadata": {
  "kernelspec": {
   "display_name": "Python 3",
   "language": "python",
   "name": "python3"
  },
  "language_info": {
   "codemirror_mode": {
    "name": "ipython",
    "version": 3
   },
   "file_extension": ".py",
   "mimetype": "text/x-python",
   "name": "python",
   "nbconvert_exporter": "python",
   "pygments_lexer": "ipython3",
   "version": "3.9.4"
  },
  "toc": {
   "base_numbering": 1,
   "nav_menu": {},
   "number_sections": true,
   "sideBar": true,
   "skip_h1_title": false,
   "title_cell": "Table of Contents",
   "title_sidebar": "Contents",
   "toc_cell": false,
   "toc_position": {},
   "toc_section_display": true,
   "toc_window_display": false
  }
 },
 "nbformat": 4,
 "nbformat_minor": 5
}
